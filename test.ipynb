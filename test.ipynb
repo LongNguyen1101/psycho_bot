{
 "cells": [
  {
   "cell_type": "code",
   "execution_count": 1,
   "metadata": {},
   "outputs": [
    {
     "data": {
      "text/plain": [
       "True"
      ]
     },
     "execution_count": 1,
     "metadata": {},
     "output_type": "execute_result"
    }
   ],
   "source": [
    "from app.agents.core.state import init_chatbot_state\n",
    "from app.agents.core.graph import build_graph\n",
    "from langgraph.types import Command\n",
    "from langchain_core.messages import HumanMessage, AIMessage\n",
    "from dotenv import load_dotenv\n",
    "from app.agents.core.state import ChatbotState\n",
    "import json\n",
    "\n",
    "load_dotenv(override=True)"
   ]
  },
  {
   "cell_type": "code",
   "execution_count": 2,
   "metadata": {},
   "outputs": [
    {
     "name": "stdout",
     "output_type": "stream",
     "text": [
      "---\n",
      "config:\n",
      "  flowchart:\n",
      "    curve: linear\n",
      "---\n",
      "graph TD;\n",
      "\t__start__([<p>__start__</p>]):::first\n",
      "\tgreeting_node(greeting_node)\n",
      "\tget_user_problem_node(get_user_problem_node)\n",
      "\tget_problem_node(get_problem_node)\n",
      "\tfollowup_problem_detect_node(followup_problem_detect_node)\n",
      "\temotion_support_node(emotion_support_node)\n",
      "\tget_user_emotion_node(get_user_emotion_node)\n",
      "\tproblem_depth_analysis_node(problem_depth_analysis_node)\n",
      "\task_emotion_check_node(ask_emotion_check_node)\n",
      "\task_other_node(ask_other_node)\n",
      "\task_phq_9_node(ask_phq_9_node)\n",
      "\tget_user_answer_phq9_node(get_user_answer_phq9_node)\n",
      "\tget_level_of_depression_node(get_level_of_depression_node)\n",
      "\tproblem_summary_node(problem_summary_node)\n",
      "\tdeep_support_node(deep_support_node)\n",
      "\tget_user_deep_support_node(get_user_deep_support_node)\n",
      "\tdeep_support_summary_node(deep_support_summary_node)\n",
      "\task_save_deep_node(ask_save_deep_node)\n",
      "\tget_confirm_save_deep_node(get_confirm_save_deep_node)\n",
      "\tsave_deep_support_info_node(save_deep_support_info_node)\n",
      "\tannounce_move_to_step_6(announce_move_to_step_6)\n",
      "\tgentle_info_phase_node(gentle_info_phase_node)\n",
      "\tget_user_gentle_phase_node(get_user_gentle_phase_node)\n",
      "\tfinish_node(finish_node)\n",
      "\tcheck_problem_detected_router(check_problem_detected_router)\n",
      "\tcheck_problem_depth_analysis_router(check_problem_depth_analysis_router)\n",
      "\tcheck_full_phq9_answer_router(check_full_phq9_answer_router)\n",
      "\tanalyze_user_input_router(analyze_user_input_router)\n",
      "\tcheck_save_deep_confirm_router(check_save_deep_confirm_router)\n",
      "\tanalyze_gentle_info_phase_router(analyze_gentle_info_phase_router)\n",
      "\t__end__([<p>__end__</p>]):::last\n",
      "\t__start__ --> greeting_node;\n",
      "\tanalyze_gentle_info_phase_router -. &nbsp;yes&nbsp; .-> finish_node;\n",
      "\tanalyze_gentle_info_phase_router -. &nbsp;no&nbsp; .-> gentle_info_phase_node;\n",
      "\tanalyze_user_input_router -. &nbsp;continue_deep_support&nbsp; .-> deep_support_node;\n",
      "\tanalyze_user_input_router -. &nbsp;move_to_step_6&nbsp; .-> deep_support_summary_node;\n",
      "\tannounce_move_to_step_6 --> gentle_info_phase_node;\n",
      "\task_emotion_check_node --> get_user_emotion_node;\n",
      "\task_other_node --> get_user_emotion_node;\n",
      "\task_phq_9_node --> get_user_answer_phq9_node;\n",
      "\task_save_deep_node --> get_confirm_save_deep_node;\n",
      "\tcheck_full_phq9_answer_router -. &nbsp;no&nbsp; .-> ask_phq_9_node;\n",
      "\tcheck_full_phq9_answer_router -. &nbsp;yes&nbsp; .-> get_level_of_depression_node;\n",
      "\tcheck_problem_depth_analysis_router -. &nbsp;ask_emotion_check&nbsp; .-> ask_emotion_check_node;\n",
      "\tcheck_problem_depth_analysis_router -. &nbsp;ask_other&nbsp; .-> ask_other_node;\n",
      "\tcheck_problem_depth_analysis_router -. &nbsp;ask_PHQ9&nbsp; .-> ask_phq_9_node;\n",
      "\tcheck_problem_depth_analysis_router -. &nbsp;move_to_step_5&nbsp; .-> problem_summary_node;\n",
      "\tcheck_problem_detected_router -. &nbsp;detected&nbsp; .-> emotion_support_node;\n",
      "\tcheck_problem_detected_router -. &nbsp;insufficient_info&nbsp; .-> followup_problem_detect_node;\n",
      "\tcheck_save_deep_confirm_router -. &nbsp;no&nbsp; .-> announce_move_to_step_6;\n",
      "\tcheck_save_deep_confirm_router -. &nbsp;unrelevant&nbsp; .-> ask_save_deep_node;\n",
      "\tcheck_save_deep_confirm_router -. &nbsp;yes&nbsp; .-> save_deep_support_info_node;\n",
      "\tdeep_support_node --> get_user_deep_support_node;\n",
      "\tdeep_support_summary_node --> ask_save_deep_node;\n",
      "\temotion_support_node --> get_user_emotion_node;\n",
      "\tfollowup_problem_detect_node --> get_user_problem_node;\n",
      "\tgentle_info_phase_node --> get_user_gentle_phase_node;\n",
      "\tget_confirm_save_deep_node --> check_save_deep_confirm_router;\n",
      "\tget_level_of_depression_node --> problem_summary_node;\n",
      "\tget_problem_node --> check_problem_detected_router;\n",
      "\tget_user_answer_phq9_node --> check_full_phq9_answer_router;\n",
      "\tget_user_deep_support_node --> analyze_user_input_router;\n",
      "\tget_user_emotion_node --> problem_depth_analysis_node;\n",
      "\tget_user_gentle_phase_node --> analyze_gentle_info_phase_router;\n",
      "\tget_user_problem_node --> get_problem_node;\n",
      "\tgreeting_node --> get_user_problem_node;\n",
      "\tproblem_depth_analysis_node --> check_problem_depth_analysis_router;\n",
      "\tproblem_summary_node --> deep_support_node;\n",
      "\tsave_deep_support_info_node --> announce_move_to_step_6;\n",
      "\tanalyze_gentle_info_phase_router -.-> __end__;\n",
      "\tfinish_node --> __end__;\n",
      "\tclassDef default fill:#f2f0ff,line-height:1.2\n",
      "\tclassDef first fill-opacity:0\n",
      "\tclassDef last fill:#bfb6fc\n",
      "\n"
     ]
    }
   ],
   "source": [
    "graph = build_graph()\n",
    "graph_text = str(graph.get_graph().draw_mermaid())\n",
    "print(graph_text)"
   ]
  },
  {
   "cell_type": "code",
   "execution_count": 3,
   "metadata": {},
   "outputs": [
    {
     "data": {
      "text/plain": [
       "{}"
      ]
     },
     "execution_count": 3,
     "metadata": {},
     "output_type": "execute_result"
    }
   ],
   "source": [
    "config = {\"configurable\": {\"thread_id\": \"1\"}}\n",
    "\n",
    "graph.get_state(config).values\n",
    "# Nếu graph chưa được chạy thì trả về dict rỗng"
   ]
  },
  {
   "cell_type": "code",
   "execution_count": 4,
   "metadata": {},
   "outputs": [
    {
     "name": "stdout",
     "output_type": "stream",
     "text": [
      "> Node: greeting_node\n",
      "==================================\u001b[1m Ai Message \u001b[0m==================================\n",
      "\n",
      "Chào bạn! Mình là AnVie, một người bạn đồng hành luôn sẵn sàng lắng nghe những tâm tư của bạn trên hành trình sinh viên đầy thú vị này.\n",
      "\n",
      "Hôm nay bạn đến với mình, không biết trong lòng bạn đang có những cảm xúc gì nhỉ? Có điều gì khiến bạn muốn chia sẻ không? Dù là niềm vui nho nhỏ hay nỗi lo lắng lớn lao, mình đều ở đây để lắng nghe bạn đấy!\n",
      "None\n",
      "> Node: get_user_problem_node\n",
      "(Interrupt(value=None, resumable=True, ns=['get_user_problem_node:16537330-a605-1e1c-1fbd-855a097978cb']),)\n"
     ]
    }
   ],
   "source": [
    "state = init_chatbot_state()\n",
    "# Thread\n",
    "config = {\"configurable\": {\"thread_id\": \"1\"}}\n",
    "\n",
    "# Run the graph until the first interruption\n",
    "for event in graph.stream(state, config):\n",
    "    for node, value in event.items():\n",
    "        if \"messages\" in value:\n",
    "                print(value[\"messages\"][-1].pretty_print())\n",
    "        else:\n",
    "            print(value)"
   ]
  },
  {
   "cell_type": "code",
   "execution_count": 5,
   "metadata": {},
   "outputs": [
    {
     "name": "stdout",
     "output_type": "stream",
     "text": [
      "> Node: get_user_problem_node\n",
      "================================\u001b[1m Human Message \u001b[0m=================================\n",
      "\n",
      "Mình bị điểm thấp nên mình rất buồn\n",
      "None\n",
      "> Node: problem_detection\n",
      "================================\u001b[1m Human Message \u001b[0m=================================\n",
      "\n",
      "Mình bị điểm thấp nên mình rất buồn\n",
      "None\n",
      "> Node: check_problem_detected_router\n",
      "> Problem found: {'status': 'detected', 'problem_summary': 'Sinh viên đang cảm thấy buồn do kết quả học tập không tốt (điểm thấp).', 'related_factors': ['học tập', 'cảm xúc'], 'needed_info': None}\n",
      "================================\u001b[1m Human Message \u001b[0m=================================\n",
      "\n",
      "Mình bị điểm thấp nên mình rất buồn\n",
      "None\n",
      "> Node: emotion_support_node\n",
      "==================================\u001b[1m Ai Message \u001b[0m==================================\n",
      "\n",
      "Mình hiểu rằng bạn đang rất buồn vì điểm số không được như mong đợi. Chắc hẳn bạn đã kỳ vọng nhiều hơn vào kết quả này.\n",
      "Nếu bạn muốn, bạn có thể chia sẻ thêm về cảm xúc của bạn lúc này không?\n",
      "None\n",
      "> Node: get_user_emotion_node\n",
      "(Interrupt(value=None, resumable=True, ns=['get_user_emotion_node:cc184fc7-a29b-2589-e7dd-7ab3e13fe7c3']),)\n"
     ]
    }
   ],
   "source": [
    "human_response = \"Mình bị điểm thấp nên mình rất buồn\"\n",
    "\n",
    "human_command = Command(resume=human_response)\n",
    "events = graph.stream(human_command, config, stream_mode=\"updates\")\n",
    "for event in events:\n",
    "    for node, value in event.items():\n",
    "        if \"messages\" in value:\n",
    "                print(value[\"messages\"][-1].pretty_print())\n",
    "        else:\n",
    "            print(value)"
   ]
  },
  {
   "cell_type": "code",
   "execution_count": 6,
   "metadata": {},
   "outputs": [
    {
     "name": "stdout",
     "output_type": "stream",
     "text": [
      "> Node: get_user_emotion_node\n",
      "================================\u001b[1m Human Message \u001b[0m=================================\n",
      "\n",
      "Mình cảm thấy mình vô dụng và khiến gia đình thấy xấu hổ\n",
      "None\n",
      "> Node: problem_depth_analysis_node\n",
      "> Promblem depth analysis: {'status': 'insufficient_info', 'reason': 'Sinh viên đã thể hiện cảm xúc tiêu cực (vô dụng, xấu hổ) liên quan đến điểm số, nhưng cần đánh giá mức độ để có hướng hỗ trợ phù hợp.', 'emotion_related': True, 'next_step': 'ask_PHQ9'}\n",
      "================================\u001b[1m Human Message \u001b[0m=================================\n",
      "\n",
      "Mình cảm thấy mình vô dụng và khiến gia đình thấy xấu hổ\n",
      "None\n",
      "> Node: check_problem_depth_analysis_router\n",
      "================================\u001b[1m Human Message \u001b[0m=================================\n",
      "\n",
      "Mình cảm thấy mình vô dụng và khiến gia đình thấy xấu hổ\n",
      "None\n",
      "> Node: ask_phq_9_node\n",
      "> Origin PHQ9 question: Trong 2 tuần qua, bạn có cảm thấy ít hứng thú hoặc không còn thấy thích thú khi làm việc gì đó không?\n",
      "> Ask PHQ-9 question: Mình muốn hiểu rõ hơn về tình hình của bạn, điều này sẽ giúp mình đưa ra những lời khuyên phù hợp nhất. Trong khoảng hai tuần trở lại đây, bạn có nhận thấy mình mất đi sự hứng thú hoặc niềm vui khi làm những việc mình từng yêu thích không?\n",
      "==================================\u001b[1m Ai Message \u001b[0m==================================\n",
      "\n",
      "Mình muốn hiểu rõ hơn về tình hình của bạn, điều này sẽ giúp mình đưa ra những lời khuyên phù hợp nhất. Trong khoảng hai tuần trở lại đây, bạn có nhận thấy mình mất đi sự hứng thú hoặc niềm vui khi làm những việc mình từng yêu thích không?\n",
      "None\n",
      "> Node: get_user_answer_phq9_node\n",
      "(Interrupt(value=None, resumable=True, ns=['get_user_answer_phq9_node:ddc4a9f9-80f0-fcb7-3121-560a3754f660']),)\n"
     ]
    }
   ],
   "source": [
    "human_response = \"Mình cảm thấy mình vô dụng và khiến gia đình thấy xấu hổ\"\n",
    "\n",
    "human_command = Command(resume=human_response)\n",
    "events = graph.stream(human_command, config, stream_mode=\"updates\")\n",
    "for event in events:\n",
    "    for node, value in event.items():\n",
    "        if \"messages\" in value:\n",
    "                print(value[\"messages\"][-1].pretty_print())\n",
    "        else:\n",
    "            print(value)"
   ]
  },
  {
   "cell_type": "code",
   "execution_count": 7,
   "metadata": {},
   "outputs": [
    {
     "name": "stdout",
     "output_type": "stream",
     "text": [
      "> Node: get_user_answer_phq9_node\n",
      "================================\u001b[1m Human Message \u001b[0m=================================\n",
      "\n",
      "Có lúc trước mình thích chơi liên minh nhưng giờ ko muốn đụng vào nữa\n",
      "None\n",
      "> Node: get_full_answer_router\n",
      "> Full phq9 answer or not: no\n",
      "================================\u001b[1m Human Message \u001b[0m=================================\n",
      "\n",
      "Có lúc trước mình thích chơi liên minh nhưng giờ ko muốn đụng vào nữa\n",
      "None\n",
      "> Node: ask_phq_9_node\n",
      "> Origin PHQ9 question: Trong 2 tuần qua, bạn có cảm thấy buồn, chán nản hoặc tuyệt vọng không?\n",
      "> Ask PHQ-9 question: Dạo gần đây, bạn có thường xuyên cảm thấy buồn rầu, mất hết hy vọng hoặc chán nản về mọi thứ không?\n",
      "==================================\u001b[1m Ai Message \u001b[0m==================================\n",
      "\n",
      "Dạo gần đây, bạn có thường xuyên cảm thấy buồn rầu, mất hết hy vọng hoặc chán nản về mọi thứ không?\n",
      "None\n",
      "> Node: get_user_answer_phq9_node\n",
      "(Interrupt(value=None, resumable=True, ns=['get_user_answer_phq9_node:2dae0e19-f085-00e4-cfa6-e596e72b37a9']),)\n"
     ]
    }
   ],
   "source": [
    "human_response = \"Có lúc trước mình thích chơi liên minh nhưng giờ ko muốn đụng vào nữa\"\n",
    "\n",
    "human_command = Command(resume=human_response)\n",
    "events = graph.stream(human_command, config, stream_mode=\"updates\")\n",
    "for event in events:\n",
    "    for node, value in event.items():\n",
    "        if \"messages\" in value:\n",
    "                print(value[\"messages\"][-1].pretty_print())\n",
    "        else:\n",
    "            print(value)"
   ]
  },
  {
   "cell_type": "code",
   "execution_count": 8,
   "metadata": {},
   "outputs": [
    {
     "name": "stdout",
     "output_type": "stream",
     "text": [
      "> Node: get_user_answer_phq9_node\n",
      "================================\u001b[1m Human Message \u001b[0m=================================\n",
      "\n",
      "Mình cảm thấy rất buồn và chán không muốn làm gì hết\n",
      "None\n",
      "> Node: get_full_answer_router\n",
      "> Full phq9 answer or not: no\n",
      "================================\u001b[1m Human Message \u001b[0m=================================\n",
      "\n",
      "Mình cảm thấy rất buồn và chán không muốn làm gì hết\n",
      "None\n",
      "> Node: ask_phq_9_node\n",
      "> Origin PHQ9 question: Trong 2 tuần qua, bạn có gặp khó khăn khi ngủ hoặc ngủ quá nhiều không?\n",
      "> Ask PHQ-9 question: Dạo gần đây giấc ngủ của bạn có bị ảnh hưởng gì không, kiểu như khó ngủ hoặc ngủ nhiều hơn bình thường ấy?\n",
      "==================================\u001b[1m Ai Message \u001b[0m==================================\n",
      "\n",
      "Dạo gần đây giấc ngủ của bạn có bị ảnh hưởng gì không, kiểu như khó ngủ hoặc ngủ nhiều hơn bình thường ấy?\n",
      "None\n",
      "> Node: get_user_answer_phq9_node\n",
      "(Interrupt(value=None, resumable=True, ns=['get_user_answer_phq9_node:bac16b85-bc67-87a2-c1ee-4096f49ea198']),)\n"
     ]
    }
   ],
   "source": [
    "human_response = (\"Mình cảm thấy rất buồn và chán không muốn làm gì hết\")\n",
    "\n",
    "human_command = Command(resume=human_response)\n",
    "events = graph.stream(human_command, config, stream_mode=\"updates\")\n",
    "for event in events:\n",
    "    for node, value in event.items():\n",
    "        if \"messages\" in value:\n",
    "                print(value[\"messages\"][-1].pretty_print())\n",
    "        else:\n",
    "            print(value)"
   ]
  },
  {
   "cell_type": "code",
   "execution_count": 8,
   "metadata": {},
   "outputs": [
    {
     "name": "stdout",
     "output_type": "stream",
     "text": [
      "> Node: get_user_answer_phq9_node\n",
      "================================\u001b[1m Human Message \u001b[0m=================================\n",
      "\n",
      "Có sáng mình ngủ dậy rất trễ cỡ 10h hoặc 11h mình mới dậy\n",
      "None\n",
      "> Node: get_full_answer_router\n",
      "> Full phq9 answer or not: no\n",
      "================================\u001b[1m Human Message \u001b[0m=================================\n",
      "\n",
      "Có sáng mình ngủ dậy rất trễ cỡ 10h hoặc 11h mình mới dậy\n",
      "None\n",
      "> Node: ask_phq_9_node\n",
      "> Origin PHQ9 question: Trong 2 tuần qua, bạn có cảm thấy mệt mỏi hoặc thiếu năng lượng không?\n",
      "> Ask PHQ-9 question: Dạo gần đây, bạn có cảm thấy lúc nào cũng uể oải, không có chút sức lực nào không?\n",
      "==================================\u001b[1m Ai Message \u001b[0m==================================\n",
      "\n",
      "Dạo gần đây, bạn có cảm thấy lúc nào cũng uể oải, không có chút sức lực nào không?\n",
      "None\n",
      "> Node: get_user_answer_phq9_node\n",
      "(Interrupt(value=None, resumable=True, ns=['get_user_answer_phq9_node:d1706330-11e5-8ef0-9914-33ea7816a428']),)\n"
     ]
    }
   ],
   "source": [
    "human_response = (\"Có sáng mình ngủ dậy rất trễ cỡ 10h hoặc 11h mình mới dậy\")\n",
    "\n",
    "human_command = Command(resume=human_response)\n",
    "events = graph.stream(human_command, config, stream_mode=\"updates\")\n",
    "for event in events:\n",
    "    for node, value in event.items():\n",
    "        if \"messages\" in value:\n",
    "                print(value[\"messages\"][-1].pretty_print())\n",
    "        else:\n",
    "            print(value)"
   ]
  },
  {
   "cell_type": "code",
   "execution_count": 9,
   "metadata": {},
   "outputs": [
    {
     "name": "stdout",
     "output_type": "stream",
     "text": [
      "> Node: get_user_answer_phq9_node\n",
      "================================\u001b[1m Human Message \u001b[0m=================================\n",
      "\n",
      "Khi mình ngủ dậy thì hầu như không muốn làm gì hết chỉ muốn nằm trên giường và cảm giác rất uể oải\n",
      "None\n",
      "> Node: get_full_answer_router\n",
      "> Full phq9 answer or not: no\n",
      "================================\u001b[1m Human Message \u001b[0m=================================\n",
      "\n",
      "Khi mình ngủ dậy thì hầu như không muốn làm gì hết chỉ muốn nằm trên giường và cảm giác rất uể oải\n",
      "None\n",
      "> Node: ask_phq_9_node\n",
      "> Origin PHQ9 question: Trong 2 tuần qua, bạn có cảm thấy chán ăn hoặc ăn quá nhiều không?\n",
      "> Ask PHQ-9 question: Bạn có để ý rằng trong khoảng hai tuần gần đây, khẩu vị của mình có gì thay đổi không? Ví dụ như, bạn có cảm thấy chán ăn hoặc ăn nhiều hơn bình thường không?\n",
      "==================================\u001b[1m Ai Message \u001b[0m==================================\n",
      "\n",
      "Bạn có để ý rằng trong khoảng hai tuần gần đây, khẩu vị của mình có gì thay đổi không? Ví dụ như, bạn có cảm thấy chán ăn hoặc ăn nhiều hơn bình thường không?\n",
      "None\n",
      "> Node: get_user_answer_phq9_node\n",
      "(Interrupt(value=None, resumable=True, ns=['get_user_answer_phq9_node:066603cf-f1a6-45a3-98f4-d79025b6e966']),)\n"
     ]
    }
   ],
   "source": [
    "human_response = (\"Khi mình ngủ dậy thì hầu như không muốn làm gì hết chỉ muốn nằm trên giường và cảm giác rất uể oải\")\n",
    "\n",
    "human_command = Command(resume=human_response)\n",
    "events = graph.stream(human_command, config, stream_mode=\"updates\")\n",
    "for event in events:\n",
    "    for node, value in event.items():\n",
    "        if \"messages\" in value:\n",
    "                print(value[\"messages\"][-1].pretty_print())\n",
    "        else:\n",
    "            print(value)"
   ]
  },
  {
   "cell_type": "code",
   "execution_count": 10,
   "metadata": {},
   "outputs": [
    {
     "name": "stdout",
     "output_type": "stream",
     "text": [
      "> Node: get_user_answer_phq9_node\n",
      "================================\u001b[1m Human Message \u001b[0m=================================\n",
      "\n",
      "Mình ăn ít hẳn đi và hấu như không muốn ăn\n",
      "None\n",
      "> Node: get_full_answer_router\n",
      "> Full phq9 answer or not: no\n",
      "================================\u001b[1m Human Message \u001b[0m=================================\n",
      "\n",
      "Mình ăn ít hẳn đi và hấu như không muốn ăn\n",
      "None\n",
      "> Node: ask_phq_9_node\n",
      "> Origin PHQ9 question: Trong 2 tuần qua, bạn có cảm thấy mình là người thất bại hoặc khiến bản thân hoặc gia đình thất vọng không?\n",
      "> Ask PHQ-9 question: Trong khoảng hai tuần trở lại đây, bạn có cảm thấy mình không đạt được những điều mình mong muốn, hoặc có những điều làm bạn thấy có lỗi với bản thân hay gia đình không?\n",
      "==================================\u001b[1m Ai Message \u001b[0m==================================\n",
      "\n",
      "Trong khoảng hai tuần trở lại đây, bạn có cảm thấy mình không đạt được những điều mình mong muốn, hoặc có những điều làm bạn thấy có lỗi với bản thân hay gia đình không?\n",
      "None\n",
      "> Node: get_user_answer_phq9_node\n",
      "(Interrupt(value=None, resumable=True, ns=['get_user_answer_phq9_node:3ce575fb-409c-88e3-8990-159b4351ff7b']),)\n"
     ]
    }
   ],
   "source": [
    "human_response = (\"Mình ăn ít hẳn đi và hấu như không muốn ăn\")\n",
    "\n",
    "human_command = Command(resume=human_response)\n",
    "events = graph.stream(human_command, config, stream_mode=\"updates\")\n",
    "for event in events:\n",
    "    for node, value in event.items():\n",
    "        if \"messages\" in value:\n",
    "                print(value[\"messages\"][-1].pretty_print())\n",
    "        else:\n",
    "            print(value)"
   ]
  },
  {
   "cell_type": "code",
   "execution_count": 11,
   "metadata": {},
   "outputs": [
    {
     "name": "stdout",
     "output_type": "stream",
     "text": [
      "> Node: get_user_answer_phq9_node\n",
      "================================\u001b[1m Human Message \u001b[0m=================================\n",
      "\n",
      "Việc điểm thấp mình nghĩ gia đình mình thất vọng nên mình chưa nói cho họ\n",
      "None\n",
      "> Node: get_full_answer_router\n",
      "> Full phq9 answer or not: no\n",
      "================================\u001b[1m Human Message \u001b[0m=================================\n",
      "\n",
      "Việc điểm thấp mình nghĩ gia đình mình thất vọng nên mình chưa nói cho họ\n",
      "None\n",
      "> Node: ask_phq_9_node\n",
      "> Origin PHQ9 question: Trong 2 tuần qua, bạn có gặp khó khăn trong việc tập trung vào những việc như đọc sách hay xem TV không?\n",
      "> Ask PHQ-9 question: Dạo gần đây, bạn có thấy mình khó tập trung khi đọc sách, xem ti-vi hoặc làm việc gì đó cần sự tập trung không?\n",
      "==================================\u001b[1m Ai Message \u001b[0m==================================\n",
      "\n",
      "Dạo gần đây, bạn có thấy mình khó tập trung khi đọc sách, xem ti-vi hoặc làm việc gì đó cần sự tập trung không?\n",
      "None\n",
      "> Node: get_user_answer_phq9_node\n",
      "(Interrupt(value=None, resumable=True, ns=['get_user_answer_phq9_node:31652a3f-bb2d-c616-7bd7-83af38d0f682']),)\n"
     ]
    }
   ],
   "source": [
    "human_response = (\"Việc điểm thấp mình nghĩ gia đình mình thất vọng nên mình chưa nói cho họ\")\n",
    "\n",
    "human_command = Command(resume=human_response)\n",
    "events = graph.stream(human_command, config, stream_mode=\"updates\")\n",
    "for event in events:\n",
    "    for node, value in event.items():\n",
    "        if \"messages\" in value:\n",
    "                print(value[\"messages\"][-1].pretty_print())\n",
    "        else:\n",
    "            print(value)"
   ]
  },
  {
   "cell_type": "code",
   "execution_count": 12,
   "metadata": {},
   "outputs": [
    {
     "name": "stdout",
     "output_type": "stream",
     "text": [
      "> Node: get_user_answer_phq9_node\n",
      "================================\u001b[1m Human Message \u001b[0m=================================\n",
      "\n",
      "Cả hai việc đó mình đều khó tập trung lúc làm thì cứ suy nghĩ chuyện khác\n",
      "None\n",
      "> Node: get_full_answer_router\n",
      "> Full phq9 answer or not: no\n",
      "================================\u001b[1m Human Message \u001b[0m=================================\n",
      "\n",
      "Cả hai việc đó mình đều khó tập trung lúc làm thì cứ suy nghĩ chuyện khác\n",
      "None\n",
      "> Node: ask_phq_9_node\n",
      "> Origin PHQ9 question: Trong 2 tuần qua, bạn có di chuyển hoặc nói chậm hơn bình thường đến mức người khác có thể nhận thấy không? Hoặc ngược lại – cảm thấy bồn chồn hoặc không thể ngồi yên?\n",
      "> Ask PHQ-9 question: Gần đây, bạn có cảm thấy mọi thứ mình làm chậm chạp hơn bình thường, hoặc ngược lại, bồn chồn và không thể ngồi yên không?\n",
      "==================================\u001b[1m Ai Message \u001b[0m==================================\n",
      "\n",
      "Gần đây, bạn có cảm thấy mọi thứ mình làm chậm chạp hơn bình thường, hoặc ngược lại, bồn chồn và không thể ngồi yên không?\n",
      "None\n",
      "> Node: get_user_answer_phq9_node\n",
      "(Interrupt(value=None, resumable=True, ns=['get_user_answer_phq9_node:0e8fbc86-0188-3e5c-a719-6449d59441ad']),)\n"
     ]
    }
   ],
   "source": [
    "human_response = (\"Cả hai việc đó mình đều khó tập trung lúc làm thì cứ suy nghĩ chuyện khác\")\n",
    "\n",
    "human_command = Command(resume=human_response)\n",
    "events = graph.stream(human_command, config, stream_mode=\"updates\")\n",
    "for event in events:\n",
    "    for node, value in event.items():\n",
    "        if \"messages\" in value:\n",
    "                print(value[\"messages\"][-1].pretty_print())\n",
    "        else:\n",
    "            print(value)"
   ]
  },
  {
   "cell_type": "code",
   "execution_count": 13,
   "metadata": {},
   "outputs": [
    {
     "name": "stdout",
     "output_type": "stream",
     "text": [
      "> Node: get_user_answer_phq9_node\n",
      "================================\u001b[1m Human Message \u001b[0m=================================\n",
      "\n",
      "Mình không cảm thấy bồn chồn nhưng lúc nào cũng chậm chạp và không muốn phải làm gì\n",
      "None\n",
      "> Node: get_full_answer_router\n",
      "> Full phq9 answer or not: no\n",
      "================================\u001b[1m Human Message \u001b[0m=================================\n",
      "\n",
      "Mình không cảm thấy bồn chồn nhưng lúc nào cũng chậm chạp và không muốn phải làm gì\n",
      "None\n",
      "> Node: ask_phq_9_node\n",
      "> Origin PHQ9 question: Trong 2 tuần qua, bạn có nghĩ rằng thà chết còn hơn sống hoặc nghĩ đến việc tự làm hại bản thân không?\n",
      "> Ask PHQ-9 question: AnVie hiểu rằng có những lúc mọi thứ trở nên khó khăn. Dạo gần đây, bạn có bao giờ cảm thấy cuộc sống không còn ý nghĩa, hoặc có ý nghĩ làm tổn thương đến bản thân mình không?\n",
      "==================================\u001b[1m Ai Message \u001b[0m==================================\n",
      "\n",
      "AnVie hiểu rằng có những lúc mọi thứ trở nên khó khăn. Dạo gần đây, bạn có bao giờ cảm thấy cuộc sống không còn ý nghĩa, hoặc có ý nghĩ làm tổn thương đến bản thân mình không?\n",
      "None\n",
      "> Node: get_user_answer_phq9_node\n",
      "(Interrupt(value=None, resumable=True, ns=['get_user_answer_phq9_node:d6c8f89f-cff5-7800-5e0a-86b6248cb26a']),)\n"
     ]
    }
   ],
   "source": [
    "human_response = (\"Mình không cảm thấy bồn chồn nhưng lúc nào cũng chậm chạp và không muốn phải làm gì\")\n",
    "\n",
    "human_command = Command(resume=human_response)\n",
    "events = graph.stream(human_command, config, stream_mode=\"updates\")\n",
    "for event in events:\n",
    "    for node, value in event.items():\n",
    "        if \"messages\" in value:\n",
    "                print(value[\"messages\"][-1].pretty_print())\n",
    "        else:\n",
    "            print(value)"
   ]
  },
  {
   "cell_type": "code",
   "execution_count": 14,
   "metadata": {},
   "outputs": [
    {
     "name": "stdout",
     "output_type": "stream",
     "text": [
      "> Node: get_user_answer_phq9_node\n",
      "================================\u001b[1m Human Message \u001b[0m=================================\n",
      "\n",
      "Mình chưa nghĩ tới tự tử nhưng mình rất xợ khi nghĩ đến cảnh ba mẹ mình biết mình điểm thấp\n",
      "None\n",
      "> Node: get_full_answer_router\n",
      "> Full phq9 answer or not: yes\n",
      "================================\u001b[1m Human Message \u001b[0m=================================\n",
      "\n",
      "Mình chưa nghĩ tới tự tử nhưng mình rất xợ khi nghĩ đến cảnh ba mẹ mình biết mình điểm thấp\n",
      "None\n",
      "> Node: get_level_of_depression_node\n",
      "================================\u001b[1m Human Message \u001b[0m=================================\n",
      "\n",
      "Mình chưa nghĩ tới tự tử nhưng mình rất xợ khi nghĩ đến cảnh ba mẹ mình biết mình điểm thấp\n",
      "None\n",
      "> Node: problem_summary_node\n",
      "================================\u001b[1m Human Message \u001b[0m=================================\n",
      "\n",
      "Mình chưa nghĩ tới tự tử nhưng mình rất xợ khi nghĩ đến cảnh ba mẹ mình biết mình điểm thấp\n",
      "None\n"
     ]
    }
   ],
   "source": [
    "human_response = (\"Mình chưa nghĩ tới tự tử nhưng mình rất xợ khi nghĩ đến cảnh ba mẹ mình biết mình điểm thấp\")\n",
    "\n",
    "human_command = Command(resume=human_response)\n",
    "events = graph.stream(human_command, config, stream_mode=\"updates\")\n",
    "for event in events:\n",
    "    for node, value in event.items():\n",
    "        if \"messages\" in value:\n",
    "                print(value[\"messages\"][-1].pretty_print())\n",
    "        else:\n",
    "            print(value)"
   ]
  },
  {
   "cell_type": "code",
   "execution_count": 15,
   "metadata": {},
   "outputs": [
    {
     "data": {
      "text/plain": [
       "{'user_input': 'Mình chưa nghĩ tới tự tử nhưng mình rất xợ khi nghĩ đến cảnh ba mẹ mình biết mình điểm thấp',\n",
       " 'user_id': None,\n",
       " 'messages': [AIMessage(content='Chào bạn! Mình là AnVie, một người bạn đồng hành luôn sẵn lòng lắng nghe và chia sẻ cùng bạn trên hành trình sinh viên đầy thú vị nhưng cũng không ít thử thách này.\\n\\nHôm nay bạn thế nào? Có điều gì bạn muốn chia sẻ, dù là niềm vui nho nhỏ hay những nỗi lo đang chất chứa trong lòng không? Mình ở đây để lắng nghe bạn một cách chân thành nhất. Đừng ngại ngần nhé!', additional_kwargs={}, response_metadata={}, id='d9798695-056a-45c9-a3bf-ddfc455f7918'),\n",
       "  HumanMessage(content='Mình bị điểm thấp nên mình rất buồn', additional_kwargs={}, response_metadata={}, id='6f93ea7e-405b-4bfd-a36e-569596cf9ab2'),\n",
       "  AIMessage(content='Mình hiểu rằng bạn đang rất buồn vì điểm số không được như mong đợi. Điều này chắc hẳn khiến bạn thất vọng và có thể ảnh hưởng đến động lực của bạn.\\n\\nNếu bạn muốn, bạn có thể chia sẻ thêm về những suy nghĩ và cảm xúc của bạn lúc này được không?', additional_kwargs={}, response_metadata={}, id='0730ba00-29f6-4884-93cd-0cf4b9105f28'),\n",
       "  HumanMessage(content='Mình cảm thấy mình vô dụng và khiến gia đình thấy xấu hổ', additional_kwargs={}, response_metadata={}, id='2207912f-4abf-4791-932d-62b8ea316aaf'),\n",
       "  AIMessage(content='Dạo gần đây, bạn có thấy những hoạt động mà trước đây bạn rất yêu thích, giờ không còn mang lại cho bạn nhiều niềm vui như trước nữa không?', additional_kwargs={}, response_metadata={}, id='7a3265e0-71ab-4d35-a1f4-8348ea3a3f57'),\n",
       "  HumanMessage(content='Có lúc trước mình thích chơi liên minh nhưng giờ ko muốn đụng vào nữa', additional_kwargs={}, response_metadata={}, id='9efb6ee9-fe2f-4974-8018-9286654470de'),\n",
       "  AIMessage(content='Bạn có thể cho mình biết trong khoảng hai tuần trở lại đây, bạn có thường xuyên cảm thấy mất hứng thú hoặc không còn thấy vui vẻ khi làm những việc mình từng thích không?', additional_kwargs={}, response_metadata={}, id='308d049f-97c2-4bb4-8196-425d8b11211f'),\n",
       "  HumanMessage(content='Mình cảm thấy rất buồn và chán không muốn làm gì hết', additional_kwargs={}, response_metadata={}, id='ff9806e2-7507-4e33-81ee-10e52126e6b0'),\n",
       "  AIMessage(content='Thời gian gần đây, giấc ngủ của bạn có bị ảnh hưởng gì không, ví dụ như khó ngủ hoặc ngủ nhiều hơn bình thường không?', additional_kwargs={}, response_metadata={}, id='657628a7-11c5-4fd9-90ef-c0c64485c9f5'),\n",
       "  HumanMessage(content='Có sáng mình ngủ dậy rất trễ cỡ 10h hoặc 11h mình mới dậy', additional_kwargs={}, response_metadata={}, id='29f8e534-c91c-4a3d-9e99-ce7764d2ba33'),\n",
       "  AIMessage(content='Dạo gần đây, bạn có cảm thấy lúc nào cũng uể oải, không có chút sức lực nào không?', additional_kwargs={}, response_metadata={}, id='c2d04d80-9140-443f-a852-73944d44dbc8'),\n",
       "  HumanMessage(content='Khi mình ngủ dậy thì hầu như không muốn làm gì hết chỉ muốn nằm trên giường và cảm giác rất uể oải', additional_kwargs={}, response_metadata={}, id='d9ddab1e-8b4c-4049-984e-c99eac0fd84c'),\n",
       "  AIMessage(content='Bạn có để ý rằng trong khoảng hai tuần gần đây, khẩu vị của mình có gì thay đổi không? Ví dụ như, bạn có cảm thấy chán ăn hoặc ăn nhiều hơn bình thường không?', additional_kwargs={}, response_metadata={}, id='9627cf25-b870-45bf-8671-c14fe595fe95'),\n",
       "  HumanMessage(content='Mình ăn ít hẳn đi và hấu như không muốn ăn', additional_kwargs={}, response_metadata={}, id='0355f998-3191-435f-9ea2-64291b20c6c6'),\n",
       "  AIMessage(content='Trong khoảng hai tuần trở lại đây, bạn có cảm thấy mình không đạt được những điều mình mong muốn, hoặc có những điều làm bạn thấy có lỗi với bản thân hay gia đình không?', additional_kwargs={}, response_metadata={}, id='a1cebbf4-bfc3-4db6-a3e9-feaabc1f3fb5'),\n",
       "  HumanMessage(content='Việc điểm thấp mình nghĩ gia đình mình thất vọng nên mình chưa nói cho họ', additional_kwargs={}, response_metadata={}, id='12791301-3ac6-4b69-9153-0e993606770c'),\n",
       "  AIMessage(content='Dạo gần đây, bạn có thấy mình khó tập trung khi đọc sách, xem ti-vi hoặc làm việc gì đó cần sự tập trung không?', additional_kwargs={}, response_metadata={}, id='1cfb3a78-9c15-4de3-8286-1fbecd088093'),\n",
       "  HumanMessage(content='Cả hai việc đó mình đều khó tập trung lúc làm thì cứ suy nghĩ chuyện khác', additional_kwargs={}, response_metadata={}, id='1bd102e6-52e9-4662-9a41-93cb4d5afac8'),\n",
       "  AIMessage(content='Gần đây, bạn có cảm thấy mọi thứ mình làm chậm chạp hơn bình thường, hoặc ngược lại, bồn chồn và không thể ngồi yên không?', additional_kwargs={}, response_metadata={}, id='f797f1da-7b7f-45c7-b5c1-935e0d625729'),\n",
       "  HumanMessage(content='Mình không cảm thấy bồn chồn nhưng lúc nào cũng chậm chạp và không muốn phải làm gì', additional_kwargs={}, response_metadata={}, id='8fc66481-53f0-41ee-8e7a-13315702e034'),\n",
       "  AIMessage(content='AnVie hiểu rằng có những lúc mọi thứ trở nên khó khăn. Dạo gần đây, bạn có bao giờ cảm thấy cuộc sống không còn ý nghĩa, hoặc có ý nghĩ làm tổn thương đến bản thân mình không?', additional_kwargs={}, response_metadata={}, id='9f054ccb-92b0-49a7-bc70-c371cad5166d'),\n",
       "  HumanMessage(content='Mình chưa nghĩ tới tự tử nhưng mình rất xợ khi nghĩ đến cảnh ba mẹ mình biết mình điểm thấp', additional_kwargs={}, response_metadata={}, id='2d79d2db-6974-49f1-b4d7-31edcf62695f')],\n",
       " 'next_node': 'yes',\n",
       " 'nodes_flow': ['greeting_node',\n",
       "  'get_user_problem_node',\n",
       "  'problem_detection',\n",
       "  'check_problem_detected_router',\n",
       "  'emotion_support_node',\n",
       "  'get_user_emotion_node',\n",
       "  'problem_depth_analysis_node',\n",
       "  'check_problem_depth_analysis_router',\n",
       "  'ask_phq_9_node',\n",
       "  'get_user_answer_phq9_node',\n",
       "  'get_full_answer_router',\n",
       "  'ask_phq_9_node',\n",
       "  'get_user_answer_phq9_node',\n",
       "  'get_full_answer_router',\n",
       "  'ask_phq_9_node',\n",
       "  'get_user_answer_phq9_node',\n",
       "  'get_full_answer_router',\n",
       "  'ask_phq_9_node',\n",
       "  'get_user_answer_phq9_node',\n",
       "  'get_full_answer_router',\n",
       "  'ask_phq_9_node',\n",
       "  'get_user_answer_phq9_node',\n",
       "  'get_full_answer_router',\n",
       "  'ask_phq_9_node',\n",
       "  'get_user_answer_phq9_node',\n",
       "  'get_full_answer_router',\n",
       "  'ask_phq_9_node',\n",
       "  'get_user_answer_phq9_node',\n",
       "  'get_full_answer_router',\n",
       "  'ask_phq_9_node',\n",
       "  'get_user_answer_phq9_node',\n",
       "  'get_full_answer_router',\n",
       "  'ask_phq_9_node',\n",
       "  'get_user_answer_phq9_node',\n",
       "  'get_full_answer_router',\n",
       "  'get_level_of_depression_node',\n",
       "  'problem_summary_node'],\n",
       " 'last_question': 'AnVie hiểu rằng có những lúc mọi thứ trở nên khó khăn. Dạo gần đây, bạn có bao giờ cảm thấy cuộc sống không còn ý nghĩa, hoặc có ý nghĩ làm tổn thương đến bản thân mình không?',\n",
       " 'problem_detection': {'status': 'detected',\n",
       "  'problem_summary': 'Sinh viên buồn bã do điểm số thấp.',\n",
       "  'related_factors': ['học tập', 'cảm xúc'],\n",
       "  'needed_info': None},\n",
       " 'problem_depth_analysis': {'status': 'insufficient_info',\n",
       "  'reason': 'Sinh viên thể hiện cảm xúc tiêu cực (vô dụng, xấu hổ) liên quan đến điểm số thấp, nhưng cần đánh giá mức độ để có hướng hỗ trợ phù hợp.',\n",
       "  'emotion_related': True,\n",
       "  'next_step': 'ask_PHQ9'},\n",
       " 'problem_analysis_start_index': 3,\n",
       " 'phq9_progress': [{'index': 1,\n",
       "   'question': 'Trong 2 tuần qua, bạn có cảm thấy ít hứng thú hoặc không còn thấy thích thú khi làm việc gì đó không?',\n",
       "   'answer_text': 'Có lúc trước mình thích chơi liên minh nhưng giờ ko muốn đụng vào nữa'},\n",
       "  {'index': 2,\n",
       "   'question': 'Trong 2 tuần qua, bạn có cảm thấy buồn, chán nản hoặc tuyệt vọng không?',\n",
       "   'answer_text': 'Mình cảm thấy rất buồn và chán không muốn làm gì hết'},\n",
       "  {'index': 3,\n",
       "   'question': 'Trong 2 tuần qua, bạn có gặp khó khăn khi ngủ hoặc ngủ quá nhiều không?',\n",
       "   'answer_text': 'Có sáng mình ngủ dậy rất trễ cỡ 10h hoặc 11h mình mới dậy'},\n",
       "  {'index': 4,\n",
       "   'question': 'Trong 2 tuần qua, bạn có cảm thấy mệt mỏi hoặc thiếu năng lượng không?',\n",
       "   'answer_text': 'Khi mình ngủ dậy thì hầu như không muốn làm gì hết chỉ muốn nằm trên giường và cảm giác rất uể oải'},\n",
       "  {'index': 5,\n",
       "   'question': 'Trong 2 tuần qua, bạn có cảm thấy chán ăn hoặc ăn quá nhiều không?',\n",
       "   'answer_text': 'Mình ăn ít hẳn đi và hấu như không muốn ăn'},\n",
       "  {'index': 6,\n",
       "   'question': 'Trong 2 tuần qua, bạn có cảm thấy mình là người thất bại hoặc khiến bản thân hoặc gia đình thất vọng không?',\n",
       "   'answer_text': 'Việc điểm thấp mình nghĩ gia đình mình thất vọng nên mình chưa nói cho họ'},\n",
       "  {'index': 7,\n",
       "   'question': 'Trong 2 tuần qua, bạn có gặp khó khăn trong việc tập trung vào những việc như đọc sách hay xem TV không?',\n",
       "   'answer_text': 'Cả hai việc đó mình đều khó tập trung lúc làm thì cứ suy nghĩ chuyện khác'},\n",
       "  {'index': 8,\n",
       "   'question': 'Trong 2 tuần qua, bạn có di chuyển hoặc nói chậm hơn bình thường đến mức người khác có thể nhận thấy không? Hoặc ngược lại – cảm thấy bồn chồn hoặc không thể ngồi yên?',\n",
       "   'answer_text': 'Mình không cảm thấy bồn chồn nhưng lúc nào cũng chậm chạp và không muốn phải làm gì'},\n",
       "  {'index': 9,\n",
       "   'question': 'Trong 2 tuần qua, bạn có nghĩ rằng thà chết còn hơn sống hoặc nghĩ đến việc tự làm hại bản thân không?',\n",
       "   'answer_text': 'Mình chưa nghĩ tới tự tử nhưng mình rất xợ khi nghĩ đến cảnh ba mẹ mình biết mình điểm thấp'}],\n",
       " 'phq9_index': 9,\n",
       " 'stress_level': 'Severe',\n",
       " 'problem_summary': {'conversation_summary': 'Sinh viên chia sẻ cảm giác vô dụng và xấu hổ với gia đình. Bạn ấy mất hứng thú với những hoạt động yêu thích trước đây, cảm thấy buồn chán, ngủ dậy muộn, uể oải, ăn ít và không muốn ăn. Sinh viên lo lắng về việc điểm thấp sẽ khiến gia đình thất vọng và chưa dám nói với ba mẹ. Bạn ấy khó tập trung và cảm thấy chậm chạp, không muốn làm gì. Mặc dù chưa nghĩ đến tự tử, nhưng bạn ấy rất sợ khi ba mẹ biết điểm thấp.',\n",
       "  'problem_summary': 'Cảm xúc tiêu cực, học tập sa sút và lo lắng về áp lực gia đình.',\n",
       "  'emotional_state': 'Trầm cảm nặng (Severe), buồn chán, thất vọng, lo âu.',\n",
       "  'related_factors': 'Điểm thấp, áp lực gia đình, thiếu ngủ, mất hứng thú với hoạt động yêu thích.',\n",
       "  'coping_style': 'Trốn tránh (không chia sẻ điểm thấp với gia đình), bế tắc (cảm thấy vô dụng, không muốn làm gì).'}}"
      ]
     },
     "execution_count": 15,
     "metadata": {},
     "output_type": "execute_result"
    }
   ],
   "source": [
    "graph.get_state(config).values"
   ]
  },
  {
   "cell_type": "markdown",
   "metadata": {},
   "source": [
    "## Test"
   ]
  },
  {
   "cell_type": "code",
   "execution_count": 5,
   "metadata": {},
   "outputs": [
    {
     "data": {
      "text/plain": [
       "True"
      ]
     },
     "execution_count": 5,
     "metadata": {},
     "output_type": "execute_result"
    }
   ],
   "source": [
    "from app.agents.core.state import init_chatbot_state\n",
    "from app.agents.core.graph import build_graph\n",
    "from langgraph.types import Command\n",
    "from langchain_core.messages import HumanMessage, AIMessage\n",
    "from dotenv import load_dotenv\n",
    "from app.agents.core.state import ChatbotState\n",
    "import json\n",
    "\n",
    "load_dotenv(override=True)"
   ]
  },
  {
   "cell_type": "code",
   "execution_count": 6,
   "metadata": {},
   "outputs": [],
   "source": [
    "args = {'user_input': 'Mình chưa nghĩ tới tự tử nhưng mình rất xợ khi nghĩ đến cảnh ba mẹ mình biết mình điểm thấp',\n",
    " 'user_id': None,\n",
    " 'messages': [AIMessage(content='Chào bạn! Mình là AnVie, một người bạn đồng hành luôn sẵn lòng lắng nghe và chia sẻ cùng bạn trên hành trình sinh viên đầy thú vị nhưng cũng không ít thử thách này.\\n\\nHôm nay bạn thế nào? Có điều gì bạn muốn chia sẻ, dù là niềm vui nho nhỏ hay những nỗi lo đang chất chứa trong lòng không? Mình ở đây để lắng nghe bạn một cách chân thành nhất. Đừng ngại ngần nhé!', additional_kwargs={}, response_metadata={}, id='d9798695-056a-45c9-a3bf-ddfc455f7918'),\n",
    "  HumanMessage(content='Mình bị điểm thấp nên mình rất buồn', additional_kwargs={}, response_metadata={}, id='6f93ea7e-405b-4bfd-a36e-569596cf9ab2'),\n",
    "  AIMessage(content='Mình hiểu rằng bạn đang rất buồn vì điểm số không được như mong đợi. Điều này chắc hẳn khiến bạn thất vọng và có thể ảnh hưởng đến động lực của bạn.\\n\\nNếu bạn muốn, bạn có thể chia sẻ thêm về những suy nghĩ và cảm xúc của bạn lúc này được không?', additional_kwargs={}, response_metadata={}, id='0730ba00-29f6-4884-93cd-0cf4b9105f28'),\n",
    "  HumanMessage(content='Mình cảm thấy mình vô dụng và khiến gia đình thấy xấu hổ', additional_kwargs={}, response_metadata={}, id='2207912f-4abf-4791-932d-62b8ea316aaf'),\n",
    "  AIMessage(content='Dạo gần đây, bạn có thấy những hoạt động mà trước đây bạn rất yêu thích, giờ không còn mang lại cho bạn nhiều niềm vui như trước nữa không?', additional_kwargs={}, response_metadata={}, id='7a3265e0-71ab-4d35-a1f4-8348ea3a3f57'),\n",
    "  HumanMessage(content='Có lúc trước mình thích chơi liên minh nhưng giờ ko muốn đụng vào nữa', additional_kwargs={}, response_metadata={}, id='9efb6ee9-fe2f-4974-8018-9286654470de'),\n",
    "  AIMessage(content='Bạn có thể cho mình biết trong khoảng hai tuần trở lại đây, bạn có thường xuyên cảm thấy mất hứng thú hoặc không còn thấy vui vẻ khi làm những việc mình từng thích không?', additional_kwargs={}, response_metadata={}, id='308d049f-97c2-4bb4-8196-425d8b11211f'),\n",
    "  HumanMessage(content='Mình cảm thấy rất buồn và chán không muốn làm gì hết', additional_kwargs={}, response_metadata={}, id='ff9806e2-7507-4e33-81ee-10e52126e6b0'),\n",
    "  AIMessage(content='Thời gian gần đây, giấc ngủ của bạn có bị ảnh hưởng gì không, ví dụ như khó ngủ hoặc ngủ nhiều hơn bình thường không?', additional_kwargs={}, response_metadata={}, id='657628a7-11c5-4fd9-90ef-c0c64485c9f5'),\n",
    "  HumanMessage(content='Có sáng mình ngủ dậy rất trễ cỡ 10h hoặc 11h mình mới dậy', additional_kwargs={}, response_metadata={}, id='29f8e534-c91c-4a3d-9e99-ce7764d2ba33'),\n",
    "  AIMessage(content='Dạo gần đây, bạn có cảm thấy lúc nào cũng uể oải, không có chút sức lực nào không?', additional_kwargs={}, response_metadata={}, id='c2d04d80-9140-443f-a852-73944d44dbc8'),\n",
    "  HumanMessage(content='Khi mình ngủ dậy thì hầu như không muốn làm gì hết chỉ muốn nằm trên giường và cảm giác rất uể oải', additional_kwargs={}, response_metadata={}, id='d9ddab1e-8b4c-4049-984e-c99eac0fd84c'),\n",
    "  AIMessage(content='Bạn có để ý rằng trong khoảng hai tuần gần đây, khẩu vị của mình có gì thay đổi không? Ví dụ như, bạn có cảm thấy chán ăn hoặc ăn nhiều hơn bình thường không?', additional_kwargs={}, response_metadata={}, id='9627cf25-b870-45bf-8671-c14fe595fe95'),\n",
    "  HumanMessage(content='Mình ăn ít hẳn đi và hấu như không muốn ăn', additional_kwargs={}, response_metadata={}, id='0355f998-3191-435f-9ea2-64291b20c6c6'),\n",
    "  AIMessage(content='Trong khoảng hai tuần trở lại đây, bạn có cảm thấy mình không đạt được những điều mình mong muốn, hoặc có những điều làm bạn thấy có lỗi với bản thân hay gia đình không?', additional_kwargs={}, response_metadata={}, id='a1cebbf4-bfc3-4db6-a3e9-feaabc1f3fb5'),\n",
    "  HumanMessage(content='Việc điểm thấp mình nghĩ gia đình mình thất vọng nên mình chưa nói cho họ', additional_kwargs={}, response_metadata={}, id='12791301-3ac6-4b69-9153-0e993606770c'),\n",
    "  AIMessage(content='Dạo gần đây, bạn có thấy mình khó tập trung khi đọc sách, xem ti-vi hoặc làm việc gì đó cần sự tập trung không?', additional_kwargs={}, response_metadata={}, id='1cfb3a78-9c15-4de3-8286-1fbecd088093'),\n",
    "  HumanMessage(content='Cả hai việc đó mình đều khó tập trung lúc làm thì cứ suy nghĩ chuyện khác', additional_kwargs={}, response_metadata={}, id='1bd102e6-52e9-4662-9a41-93cb4d5afac8'),\n",
    "  AIMessage(content='Gần đây, bạn có cảm thấy mọi thứ mình làm chậm chạp hơn bình thường, hoặc ngược lại, bồn chồn và không thể ngồi yên không?', additional_kwargs={}, response_metadata={}, id='f797f1da-7b7f-45c7-b5c1-935e0d625729'),\n",
    "  HumanMessage(content='Mình không cảm thấy bồn chồn nhưng lúc nào cũng chậm chạp và không muốn phải làm gì', additional_kwargs={}, response_metadata={}, id='8fc66481-53f0-41ee-8e7a-13315702e034'),\n",
    "  AIMessage(content='AnVie hiểu rằng có những lúc mọi thứ trở nên khó khăn. Dạo gần đây, bạn có bao giờ cảm thấy cuộc sống không còn ý nghĩa, hoặc có ý nghĩ làm tổn thương đến bản thân mình không?', additional_kwargs={}, response_metadata={}, id='9f054ccb-92b0-49a7-bc70-c371cad5166d'),\n",
    "  HumanMessage(content='Mình chưa nghĩ tới tự tử nhưng mình rất xợ khi nghĩ đến cảnh ba mẹ mình biết mình điểm thấp', additional_kwargs={}, response_metadata={}, id='2d79d2db-6974-49f1-b4d7-31edcf62695f'),\n",
    "  HumanMessage(content='AnVie hiểu rằng bạn đang trải qua giai đoạn rất khó khăn. Cảm giác vô dụng, xấu hổ, mất hứng thú và lo lắng về điểm số có thể đè nặng lên bạn. AnVie thực sự rất tiếc khi bạn phải trải qua những điều này một mình.\\n\\nBạn nói rằng bạn chưa chia sẻ với ba mẹ về điểm số vì sợ họ thất vọng. Đây là một gánh nặng lớn, AnVie hiểu điều đó. Có lẽ, chúng ta có thể cùng nhau tìm cách giảm bớt gánh nặng này một chút được không?\\n\\nMột cách có thể giúp bạn cảm thấy dễ chịu hơn là thử viết ra những suy nghĩ và cảm xúc của bạn. Bạn không cần phải viết hay hoặc đúng ngữ pháp, chỉ cần viết tự do những gì đang diễn ra trong lòng bạn. Đôi khi, việc nhìn thấy những suy nghĩ của mình trên giấy có thể giúp bạn hiểu rõ hơn về chúng và tìm ra hướng đi.\\n\\nBạn nghĩ sao về gợi ý này? Nếu bạn cảm thấy không thoải mái, chúng ta có thể thử một cách khác.', additional_kwargs={}, response_metadata={}, id='1d260c52-a205-4dca-9d56-3066102d77f9')],\n",
    " 'next_node': 'yes',\n",
    " 'nodes_flow': ['greeting_node',\n",
    "  'get_user_problem_node',\n",
    "  'problem_detection',\n",
    "  'check_problem_detected_router',\n",
    "  'emotion_support_node',\n",
    "  'get_user_emotion_node',\n",
    "  'problem_depth_analysis_node',\n",
    "  'check_problem_depth_analysis_router',\n",
    "  'ask_phq_9_node',\n",
    "  'get_user_answer_phq9_node',\n",
    "  'get_full_answer_router',\n",
    "  'ask_phq_9_node',\n",
    "  'get_user_answer_phq9_node',\n",
    "  'get_full_answer_router',\n",
    "  'ask_phq_9_node',\n",
    "  'get_user_answer_phq9_node',\n",
    "  'get_full_answer_router',\n",
    "  'ask_phq_9_node',\n",
    "  'get_user_answer_phq9_node',\n",
    "  'get_full_answer_router',\n",
    "  'ask_phq_9_node',\n",
    "  'get_user_answer_phq9_node',\n",
    "  'get_full_answer_router',\n",
    "  'ask_phq_9_node',\n",
    "  'get_user_answer_phq9_node',\n",
    "  'get_full_answer_router',\n",
    "  'ask_phq_9_node',\n",
    "  'get_user_answer_phq9_node',\n",
    "  'get_full_answer_router',\n",
    "  'ask_phq_9_node',\n",
    "  'get_user_answer_phq9_node',\n",
    "  'get_full_answer_router',\n",
    "  'ask_phq_9_node',\n",
    "  'get_user_answer_phq9_node',\n",
    "  'get_full_answer_router',\n",
    "  'get_level_of_depression_node',\n",
    "  'problem_summary_node',\n",
    "  'deep_support_node'],\n",
    " 'last_question': 'AnVie hiểu rằng có những lúc mọi thứ trở nên khó khăn. Dạo gần đây, bạn có bao giờ cảm thấy cuộc sống không còn ý nghĩa, hoặc có ý nghĩ làm tổn thương đến bản thân mình không?',\n",
    " 'problem_detection': {'status': 'detected',\n",
    "  'problem_summary': 'Sinh viên buồn bã do điểm số thấp.',\n",
    "  'related_factors': ['học tập', 'cảm xúc'],\n",
    "  'needed_info': None},\n",
    " 'problem_depth_analysis': {'status': 'insufficient_info',\n",
    "  'reason': 'Sinh viên thể hiện cảm xúc tiêu cực (vô dụng, xấu hổ) liên quan đến điểm số thấp, nhưng cần đánh giá mức độ để có hướng hỗ trợ phù hợp.',\n",
    "  'emotion_related': True,\n",
    "  'next_step': 'ask_PHQ9'},\n",
    " 'problem_analysis_start_index': 3,\n",
    " 'phq9_progress': [{'index': 1,\n",
    "   'question': 'Trong 2 tuần qua, bạn có cảm thấy ít hứng thú hoặc không còn thấy thích thú khi làm việc gì đó không?',\n",
    "   'answer_text': 'Có lúc trước mình thích chơi liên minh nhưng giờ ko muốn đụng vào nữa'},\n",
    "  {'index': 2,\n",
    "   'question': 'Trong 2 tuần qua, bạn có cảm thấy buồn, chán nản hoặc tuyệt vọng không?',\n",
    "   'answer_text': 'Mình cảm thấy rất buồn và chán không muốn làm gì hết'},\n",
    "  {'index': 3,\n",
    "   'question': 'Trong 2 tuần qua, bạn có gặp khó khăn khi ngủ hoặc ngủ quá nhiều không?',\n",
    "   'answer_text': 'Có sáng mình ngủ dậy rất trễ cỡ 10h hoặc 11h mình mới dậy'},\n",
    "  {'index': 4,\n",
    "   'question': 'Trong 2 tuần qua, bạn có cảm thấy mệt mỏi hoặc thiếu năng lượng không?',\n",
    "   'answer_text': 'Khi mình ngủ dậy thì hầu như không muốn làm gì hết chỉ muốn nằm trên giường và cảm giác rất uể oải'},\n",
    "  {'index': 5,\n",
    "   'question': 'Trong 2 tuần qua, bạn có cảm thấy chán ăn hoặc ăn quá nhiều không?',\n",
    "   'answer_text': 'Mình ăn ít hẳn đi và hấu như không muốn ăn'},\n",
    "  {'index': 6,\n",
    "   'question': 'Trong 2 tuần qua, bạn có cảm thấy mình là người thất bại hoặc khiến bản thân hoặc gia đình thất vọng không?',\n",
    "   'answer_text': 'Việc điểm thấp mình nghĩ gia đình mình thất vọng nên mình chưa nói cho họ'},\n",
    "  {'index': 7,\n",
    "   'question': 'Trong 2 tuần qua, bạn có gặp khó khăn trong việc tập trung vào những việc như đọc sách hay xem TV không?',\n",
    "   'answer_text': 'Cả hai việc đó mình đều khó tập trung lúc làm thì cứ suy nghĩ chuyện khác'},\n",
    "  {'index': 8,\n",
    "   'question': 'Trong 2 tuần qua, bạn có di chuyển hoặc nói chậm hơn bình thường đến mức người khác có thể nhận thấy không? Hoặc ngược lại – cảm thấy bồn chồn hoặc không thể ngồi yên?',\n",
    "   'answer_text': 'Mình không cảm thấy bồn chồn nhưng lúc nào cũng chậm chạp và không muốn phải làm gì'},\n",
    "  {'index': 9,\n",
    "   'question': 'Trong 2 tuần qua, bạn có nghĩ rằng thà chết còn hơn sống hoặc nghĩ đến việc tự làm hại bản thân không?',\n",
    "   'answer_text': 'Mình chưa nghĩ tới tự tử nhưng mình rất xợ khi nghĩ đến cảnh ba mẹ mình biết mình điểm thấp'}],\n",
    " 'phq9_index': 9,\n",
    " 'stress_level': 'Severe',\n",
    " 'student_summary': {'conversation_summary': 'Sinh viên chia sẻ cảm giác vô dụng và xấu hổ với gia đình. Bạn ấy mất hứng thú với những hoạt động yêu thích trước đây, cảm thấy buồn chán, ngủ dậy muộn, uể oải, ăn ít và không muốn ăn. Sinh viên lo lắng về việc điểm thấp sẽ khiến gia đình thất vọng và chưa dám nói với ba mẹ. Bạn ấy khó tập trung và cảm thấy chậm chạp, không muốn làm gì. Mặc dù chưa nghĩ đến tự tử, nhưng bạn ấy rất sợ khi ba mẹ biết điểm thấp.',\n",
    "  'problem_summary': 'Cảm xúc tiêu cực, học tập sa sút và lo lắng về áp lực gia đình.',\n",
    "  'emotional_state': 'Trầm cảm nặng (Severe), buồn chán, thất vọng, lo âu.',\n",
    "  'related_factors': 'Điểm thấp, áp lực gia đình, thiếu ngủ, mất hứng thú với hoạt động yêu thích.',\n",
    "  'coping_style': 'Trốn tránh (không chia sẻ điểm thấp với gia đình), bế tắc (cảm thấy vô dụng, không muốn làm gì).'},\n",
    " 'last_support_direction': 'Gợi ý một bài tập nhỏ để giúp họ tự điều chỉnh cảm xúc (viết nhật ký).',\n",
    " 'analyze_emotion': None,\n",
    " 'analyze_bot_opinion': None\n",
    "}"
   ]
  },
  {
   "cell_type": "code",
   "execution_count": 7,
   "metadata": {},
   "outputs": [],
   "source": [
    "from app.agents.core.graph import build_custom_graph\n",
    "from app.agents.core.nodes import AgentNodes\n",
    "\n",
    "nodes = AgentNodes()\n",
    "\n",
    "graph = build_custom_graph()\n"
   ]
  },
  {
   "cell_type": "code",
   "execution_count": 8,
   "metadata": {},
   "outputs": [
    {
     "name": "stdout",
     "output_type": "stream",
     "text": [
      "> Node: deep_support_node\n",
      "================================\u001b[1m Human Message \u001b[0m=================================\n",
      "\n",
      "AnVie hiểu rằng bạn đang rất lo lắng và sợ hãi khi nghĩ đến việc ba mẹ biết điểm số của bạn. Đó là một cảm xúc hoàn toàn dễ hiểu, đặc biệt khi bạn cảm thấy áp lực từ gia đình.\n",
      "\n",
      "Việc viết ra những suy nghĩ của mình có thể giúp bạn giải tỏa bớt phần nào những cảm xúc này. Tuy nhiên, nếu bạn cảm thấy khó khăn khi bắt đầu, chúng ta có thể thử một cách khác.\n",
      "\n",
      "Bạn có muốn AnVie giúp bạn hình dung ra một cuộc trò chuyện có thể xảy ra giữa bạn và ba mẹ về điểm số không? Chúng ta có thể cùng nhau thử viết ra những điều bạn muốn nói và những phản ứng có thể xảy ra, để bạn cảm thấy tự tin và chuẩn bị tốt hơn khi đối diện với tình huống này.\n",
      "None\n",
      "> Node: get_user_deep_support_node\n",
      "(Interrupt(value=None, resumable=True, ns=['get_user_deep_support_node:67b413bb-be36-f384-bf2f-48a30d774afb']),)\n"
     ]
    }
   ],
   "source": [
    "state = ChatbotState(**args)\n",
    "# Thread\n",
    "config = {\"configurable\": {\"thread_id\": \"1\"}}\n",
    "\n",
    "# Run the graph until the first interruption\n",
    "for event in graph.stream(state, config):\n",
    "    for node, value in event.items():\n",
    "        if \"messages\" in value:\n",
    "                print(value[\"messages\"][-1].pretty_print())\n",
    "        else:\n",
    "            print(value)"
   ]
  },
  {
   "cell_type": "code",
   "execution_count": 9,
   "metadata": {},
   "outputs": [
    {
     "name": "stdout",
     "output_type": "stream",
     "text": [
      "> Node: get_user_deep_support_node\n",
      "================================\u001b[1m Human Message \u001b[0m=================================\n",
      "\n",
      "Mình nghĩ chia sẻ điểm số với bạn thân của mình khiến mình thoải mái nhất\n",
      "None\n",
      "> Node: analyze_user_input_router\n",
      "================================\u001b[1m Human Message \u001b[0m=================================\n",
      "\n",
      "Mình nghĩ chia sẻ điểm số với bạn thân của mình khiến mình thoải mái nhất\n",
      "None\n",
      "> Node: deep_support_node\n",
      "================================\u001b[1m Human Message \u001b[0m=================================\n",
      "\n",
      "AnVie rất vui khi bạn đã tìm thấy một người bạn thân để chia sẻ. Đó là một bước tiến lớn đó! AnVie hiểu rằng việc chia sẻ với bạn thân có thể giúp bạn cảm thấy thoải mái hơn, nhưng AnVie cũng muốn nhắc bạn rằng, nếu những cảm xúc tiêu cực vẫn còn đè nặng, đừng ngần ngại tìm kiếm sự giúp đỡ từ những người lớn mà bạn tin tưởng, hoặc từ các chuyên gia tâm lý nhé.\n",
      "\n",
      "Bạn có muốn chia sẻ thêm về những gì bạn đã nói với bạn thân của mình không? Hoặc có lẽ, chúng ta có thể cùng nhau nghĩ về những bước tiếp theo để bạn có thể tự tin hơn khi đối diện với gia đình?\n",
      "None\n",
      "> Node: get_user_deep_support_node\n",
      "(Interrupt(value=None, resumable=True, ns=['get_user_deep_support_node:bbc14c03-b135-3557-8153-62f4e66f2b76']),)\n"
     ]
    }
   ],
   "source": [
    "human_response = (\"Mình nghĩ chia sẻ điểm số với bạn thân của mình khiến mình thoải mái nhất\")\n",
    "\n",
    "human_command = Command(resume=human_response)\n",
    "events = graph.stream(human_command, config, stream_mode=\"updates\")\n",
    "for event in events:\n",
    "    for node, value in event.items():\n",
    "        if \"messages\" in value:\n",
    "                print(value[\"messages\"][-1].pretty_print())\n",
    "        else:\n",
    "            print(value)"
   ]
  },
  {
   "cell_type": "code",
   "execution_count": 11,
   "metadata": {},
   "outputs": [
    {
     "name": "stdout",
     "output_type": "stream",
     "text": [
      "> Node: get_user_deep_support_node\n",
      "================================\u001b[1m Human Message \u001b[0m=================================\n",
      "\n",
      "Bạn có thể chỉ mình làm sao để ba mẹ mình không giận khi mình nói điểm của mình ko\n",
      "None\n",
      "> Node: analyze_user_input_router\n",
      "================================\u001b[1m Human Message \u001b[0m=================================\n",
      "\n",
      "Bạn có thể chỉ mình làm sao để ba mẹ mình không giận khi mình nói điểm của mình ko\n",
      "None\n",
      "> Node: deep_support_node\n",
      "================================\u001b[1m Human Message \u001b[0m=================================\n",
      "\n",
      "AnVie hiểu rằng bạn vẫn đang rất lo lắng về việc nói chuyện với ba mẹ. Đừng lo, chúng ta sẽ cùng nhau tìm cách để bạn cảm thấy thoải mái và tự tin hơn khi chia sẻ với ba mẹ nhé.\n",
      "\n",
      "Bạn có muốn cùng AnVie thử hình dung một số cách mở đầu câu chuyện không? Ví dụ, bạn có thể bắt đầu bằng cách chia sẻ những khó khăn bạn đang gặp phải trong học tập, thay vì chỉ tập trung vào điểm số. Hoặc, bạn có thể nói về những nỗ lực bạn đã bỏ ra và những gì bạn đã học được, ngay cả khi kết quả không như mong đợi. \n",
      "\n",
      "Chúng ta sẽ cùng nhau tìm ra cách diễn đạt phù hợp nhất với bạn và gia đình bạn nhé!\n",
      "None\n",
      "> Node: get_user_deep_support_node\n",
      "(Interrupt(value=None, resumable=True, ns=['get_user_deep_support_node:1a8acd5e-d1f2-749d-4b8e-a9f7d4c716b8']),)\n"
     ]
    }
   ],
   "source": [
    "human_response = (\"Bạn có thể chỉ mình làm sao để ba mẹ mình không giận khi mình nói điểm của mình ko\")\n",
    "\n",
    "human_command = Command(resume=human_response)\n",
    "events = graph.stream(human_command, config, stream_mode=\"updates\")\n",
    "for event in events:\n",
    "    for node, value in event.items():\n",
    "        if \"messages\" in value:\n",
    "                print(value[\"messages\"][-1].pretty_print())\n",
    "        else:\n",
    "            print(value)"
   ]
  },
  {
   "cell_type": "code",
   "execution_count": 19,
   "metadata": {},
   "outputs": [
    {
     "name": "stdout",
     "output_type": "stream",
     "text": [
      "> Node: get_user_deep_support_node\n",
      "================================\u001b[1m Human Message \u001b[0m=================================\n",
      "\n",
      "Như vậy mình có nên nói ra việc môn học đó đối với mình thật sự rất khó nên mình ko thể đạt được điểm cao ko\n",
      "None\n",
      "> Node: analyze_user_input_router\n",
      "================================\u001b[1m Human Message \u001b[0m=================================\n",
      "\n",
      "Như vậy mình có nên nói ra việc môn học đó đối với mình thật sự rất khó nên mình ko thể đạt được điểm cao ko\n",
      "None\n",
      "> Node: deep_support_node\n",
      "================================\u001b[1m Human Message \u001b[0m=================================\n",
      "\n",
      "AnVie thấy bạn đã suy nghĩ rất nhiều về việc này. Việc bạn nhận ra môn học đó khó với mình là một điều rất quan trọng, nó cho thấy bạn hiểu rõ bản thân và tình hình của mình.\n",
      "\n",
      "Vậy thì, AnVie gợi ý bạn có thể chia sẻ điều này với ba mẹ. Bạn có thể nói: \"Con biết ba mẹ luôn mong muốn con đạt kết quả tốt, nhưng môn học này thực sự rất khó với con. Con đã cố gắng hết sức, nhưng có lẽ con cần thêm sự hỗ trợ.\" Bạn nghĩ sao về cách diễn đạt này? \n",
      "\n",
      "Chúng ta có thể cùng nhau điều chỉnh để câu nói này phù hợp nhất với bạn và gia đình bạn.\n",
      "None\n",
      "> Node: get_user_deep_support_node\n",
      "(Interrupt(value=None, resumable=True, ns=['get_user_deep_support_node:6287deae-5e74-f62e-bb72-601aad30f31d']),)\n"
     ]
    }
   ],
   "source": [
    "human_response = (\"Như vậy mình có nên nói ra việc môn học đó đối với mình thật sự rất khó nên mình ko thể đạt được điểm cao ko\")\n",
    "\n",
    "human_command = Command(resume=human_response)\n",
    "events = graph.stream(human_command, config, stream_mode=\"updates\")\n",
    "for event in events:\n",
    "    for node, value in event.items():\n",
    "        if \"messages\" in value:\n",
    "                print(value[\"messages\"][-1].pretty_print())\n",
    "        else:\n",
    "            print(value)"
   ]
  },
  {
   "cell_type": "code",
   "execution_count": 27,
   "metadata": {},
   "outputs": [
    {
     "name": "stdout",
     "output_type": "stream",
     "text": [
      "> Node: get_user_deep_support_node\n",
      "================================\u001b[1m Human Message \u001b[0m=================================\n",
      "\n",
      "Mĩnh nghĩ mình có thể nói như bạn, nhưng lỡ như ba mẹ mình không bớt giận thì sao\n",
      "None\n",
      "> Node: analyze_user_input_router\n",
      "================================\u001b[1m Human Message \u001b[0m=================================\n",
      "\n",
      "Mĩnh nghĩ mình có thể nói như bạn, nhưng lỡ như ba mẹ mình không bớt giận thì sao\n",
      "None\n",
      "> Node: deep_support_node\n",
      "================================\u001b[1m Human Message \u001b[0m=================================\n",
      "\n",
      "AnVie hiểu rằng bạn vẫn còn lo lắng dù đã có những chuẩn bị. Điều đó hoàn toàn dễ hiểu, vì việc đối diện với ba mẹ luôn là một thử thách lớn.\n",
      "\n",
      "AnVie muốn bạn biết rằng, dù ba mẹ có phản ứng thế nào, thì bạn vẫn là người quan trọng và xứng đáng được yêu thương. Đôi khi, ba mẹ có thể không hiểu hết những khó khăn của bạn, nhưng điều đó không có nghĩa là họ không yêu bạn.\n",
      "\n",
      "Chúng ta có thể cùng nhau nghĩ về những điều tốt đẹp ở bạn, những điểm mạnh và những thành công mà bạn đã đạt được không? Việc tập trung vào những điều tích cực có thể giúp bạn cảm thấy tự tin hơn một chút đó.\n",
      "None\n",
      "> Node: get_user_deep_support_node\n",
      "(Interrupt(value=None, resumable=True, ns=['get_user_deep_support_node:741c2989-2dbd-6229-269e-1071e7e49684']),)\n"
     ]
    }
   ],
   "source": [
    "human_response = (\"Mĩnh nghĩ mình có thể nói như bạn, nhưng lỡ như ba mẹ mình không bớt giận thì sao\")\n",
    "\n",
    "human_command = Command(resume=human_response)\n",
    "events = graph.stream(human_command, config, stream_mode=\"updates\")\n",
    "for event in events:\n",
    "    for node, value in event.items():\n",
    "        if \"messages\" in value:\n",
    "                print(value[\"messages\"][-1].pretty_print())\n",
    "        else:\n",
    "            print(value)"
   ]
  },
  {
   "cell_type": "code",
   "execution_count": 34,
   "metadata": {},
   "outputs": [
    {
     "name": "stdout",
     "output_type": "stream",
     "text": [
      "> Node: get_user_deep_support_node\n",
      "================================\u001b[1m Human Message \u001b[0m=================================\n",
      "\n",
      "Mình đã đạt được giải khuyến khích trong đợt thi nghiên cứu khoa học của trường mìnhNhưng ba mẹ đã biết chuyện này thì mình nghĩ có đề cập lại thì ba mẹ cũng ko bớt giận\n",
      "None\n",
      "> Node: analyze_user_input_router\n",
      "================================\u001b[1m Human Message \u001b[0m=================================\n",
      "\n",
      "Mình đã đạt được giải khuyến khích trong đợt thi nghiên cứu khoa học của trường mìnhNhưng ba mẹ đã biết chuyện này thì mình nghĩ có đề cập lại thì ba mẹ cũng ko bớt giận\n",
      "None\n",
      "> Node: deep_support_node\n",
      "================================\u001b[1m Human Message \u001b[0m=================================\n",
      "\n",
      "AnVie hiểu rằng bạn lo lắng việc đạt giải khuyến khích có thể không làm ba mẹ bớt giận. Có lẽ, thay vì tập trung vào việc 'bớt giận', chúng ta có thể nghĩ về việc giúp ba mẹ hiểu rõ hơn về những khó khăn bạn đang gặp phải.\n",
      "\n",
      "Bạn có muốn AnVie giúp bạn soạn một tin nhắn hoặc một đoạn nói ngắn gọn để chia sẻ với ba mẹ về những nỗ lực của bạn, không chỉ trong học tập mà còn trong nghiên cứu khoa học không? Đôi khi, việc cho ba mẹ thấy bạn đang cố gắng và có những thành công khác có thể giúp họ nhìn nhận vấn đề một cách khác đó.\n",
      "None\n",
      "> Node: get_user_deep_support_node\n",
      "(Interrupt(value=None, resumable=True, ns=['get_user_deep_support_node:be8d890b-32a5-be48-150a-0890633298b3']),)\n"
     ]
    }
   ],
   "source": [
    "human_response = (\n",
    "    \"Mình đã đạt được giải khuyến khích trong đợt thi nghiên cứu khoa học của trường mình\"\n",
    "    \"Nhưng ba mẹ đã biết chuyện này thì mình nghĩ có đề cập lại thì ba mẹ cũng ko bớt giận\"\n",
    ")\n",
    "\n",
    "human_command = Command(resume=human_response)\n",
    "events = graph.stream(human_command, config, stream_mode=\"updates\")\n",
    "for event in events:\n",
    "    for node, value in event.items():\n",
    "        if \"messages\" in value:\n",
    "                print(value[\"messages\"][-1].pretty_print())\n",
    "        else:\n",
    "            print(value)"
   ]
  },
  {
   "cell_type": "code",
   "execution_count": 35,
   "metadata": {},
   "outputs": [
    {
     "name": "stdout",
     "output_type": "stream",
     "text": [
      "> Node: get_user_deep_support_node\n",
      "================================\u001b[1m Human Message \u001b[0m=================================\n",
      "\n",
      "Bạn viết giúp mình được ko\n",
      "None\n",
      "> Node: analyze_user_input_router\n",
      "================================\u001b[1m Human Message \u001b[0m=================================\n",
      "\n",
      "Bạn viết giúp mình được ko\n",
      "None\n",
      "> Node: deep_support_node\n",
      "================================\u001b[1m Human Message \u001b[0m=================================\n",
      "\n",
      "AnVie hiểu rằng bạn đang cảm thấy rất khó khăn. Việc bạn muốn AnVie viết giúp tin nhắn cho thấy bạn vẫn còn nhiều lo lắng và chưa đủ tự tin để tự mình đối diện với ba mẹ. AnVie sẵn lòng giúp bạn, nhưng AnVie cũng muốn bạn có cơ hội tự mình thể hiện những suy nghĩ và cảm xúc của mình.\n",
      "\n",
      "Vậy thì, AnVie sẽ đưa ra một vài lựa chọn, và bạn có thể chọn một cách mà bạn cảm thấy thoải mái nhất nhé:\n",
      "\n",
      "1.  AnVie sẽ viết một vài mẫu tin nhắn khác nhau, và bạn có thể chọn một mẫu mà bạn thích nhất, hoặc chỉnh sửa lại cho phù hợp với bạn.\n",
      "2.  Chúng ta sẽ cùng nhau viết từng câu một. AnVie sẽ hỏi bạn muốn diễn đạt điều gì, và AnVie sẽ giúp bạn diễn đạt nó một cách rõ ràng và nhẹ nhàng nhất.\n",
      "3.  AnVie sẽ đóng vai ba mẹ bạn, và bạn sẽ tập nói chuyện với AnVie. AnVie sẽ đưa ra những phản hồi để bạn có thể điều chỉnh cách nói của mình.\n",
      "\n",
      "Bạn cảm thấy cách nào phù hợp với bạn nhất?\n",
      "None\n",
      "> Node: get_user_deep_support_node\n",
      "(Interrupt(value=None, resumable=True, ns=['get_user_deep_support_node:328e14c8-90c8-f124-71f0-c12ddf60c8c1']),)\n"
     ]
    }
   ],
   "source": [
    "human_response = (\n",
    "    \"Bạn viết giúp mình được ko\"\n",
    ")\n",
    "\n",
    "human_command = Command(resume=human_response)\n",
    "events = graph.stream(human_command, config, stream_mode=\"updates\")\n",
    "for event in events:\n",
    "    for node, value in event.items():\n",
    "        if \"messages\" in value:\n",
    "                print(value[\"messages\"][-1].pretty_print())\n",
    "        else:\n",
    "            print(value)"
   ]
  },
  {
   "cell_type": "code",
   "execution_count": 36,
   "metadata": {},
   "outputs": [
    {
     "name": "stdout",
     "output_type": "stream",
     "text": [
      "> Node: get_user_deep_support_node\n",
      "================================\u001b[1m Human Message \u001b[0m=================================\n",
      "\n",
      "Bạn giúp mình cách thứ nhất được ko\n",
      "None\n",
      "> Node: analyze_user_input_router\n",
      "================================\u001b[1m Human Message \u001b[0m=================================\n",
      "\n",
      "Bạn giúp mình cách thứ nhất được ko\n",
      "None\n",
      "> Node: deep_support_node\n",
      "================================\u001b[1m Human Message \u001b[0m=================================\n",
      "\n",
      "AnVie hiểu rằng bạn đang cảm thấy rất khó khăn và muốn AnVie giúp bạn viết tin nhắn. Điều đó hoàn toàn dễ hiểu. Vậy thì, AnVie sẽ viết tặng bạn một vài mẫu tin nhắn khác nhau, bạn xem thử nhé:\n",
      "\n",
      "Mẫu 1: \"Ba mẹ ơi, con có chuyện này muốn chia sẻ với ba mẹ. Con biết kết quả học tập của con không được tốt như mong đợi, đặc biệt là môn [tên môn học]. Con đã cố gắng rất nhiều, nhưng con thấy môn này thực sự khó với con. Con muốn ba mẹ hiểu rằng con không hề lơ là việc học, và con sẽ cố gắng hơn nữa trong thời gian tới.\"\n",
      "\n",
      "Mẫu 2: \"Ba mẹ à, con muốn nói với ba mẹ về kết quả thi của con. Con biết ba mẹ sẽ buồn, nhưng con muốn ba mẹ biết rằng con cũng rất buồn và thất vọng về bản thân. Môn [tên môn học] con đã gặp nhiều khó khăn, nhưng con vẫn đang cố gắng tìm cách để cải thiện. Con mong ba mẹ có thể hiểu và ủng hộ con.\"\n",
      "\n",
      "Bạn hãy đọc và cho AnVie biết bạn thích mẫu nào hơn, hoặc bạn muốn chỉnh sửa gì nhé!\n",
      "None\n",
      "> Node: get_user_deep_support_node\n",
      "(Interrupt(value=None, resumable=True, ns=['get_user_deep_support_node:69601d38-431f-d39a-aa3b-b4ff0f619528']),)\n"
     ]
    }
   ],
   "source": [
    "human_response = (\n",
    "    \"Bạn giúp mình cách thứ nhất được ko\"\n",
    ")\n",
    "\n",
    "human_command = Command(resume=human_response)\n",
    "events = graph.stream(human_command, config, stream_mode=\"updates\")\n",
    "for event in events:\n",
    "    for node, value in event.items():\n",
    "        if \"messages\" in value:\n",
    "                print(value[\"messages\"][-1].pretty_print())\n",
    "        else:\n",
    "            print(value)"
   ]
  },
  {
   "cell_type": "code",
   "execution_count": 43,
   "metadata": {},
   "outputs": [
    {
     "name": "stdout",
     "output_type": "stream",
     "text": [
      "> Node: get_user_deep_support_node\n",
      "================================\u001b[1m Human Message \u001b[0m=================================\n",
      "\n",
      "Cám ơn bạn mình sẽ thử mẫu đầu tiên.\n",
      "Bạn có thể chờ mình nói với ba mẹ được không\n",
      "\n",
      "None\n",
      "> Node: analyze_user_input_router\n",
      "================================\u001b[1m Human Message \u001b[0m=================================\n",
      "\n",
      "Cám ơn bạn mình sẽ thử mẫu đầu tiên.\n",
      "Bạn có thể chờ mình nói với ba mẹ được không\n",
      "\n",
      "None\n",
      "> Node: deep_support_node\n",
      "================================\u001b[1m Human Message \u001b[0m=================================\n",
      "\n",
      "AnVie rất vui vì bạn đã chọn được mẫu tin nhắn phù hợp. AnVie hoàn toàn có thể chờ bạn chia sẻ phản hồi từ ba mẹ. Trong thời gian đó, nếu bạn cảm thấy lo lắng hay bất an, đừng ngần ngại chia sẻ với AnVie nhé. Chúng ta có thể cùng nhau tìm cách để bạn cảm thấy thoải mái hơn. Bạn có muốn AnVie gợi ý một vài bài tập nhỏ giúp thư giãn không?\n",
      "None\n",
      "> Node: get_user_deep_support_node\n",
      "(Interrupt(value=None, resumable=True, ns=['get_user_deep_support_node:f7ef3814-fc05-3ccb-8e5f-c5dd1230c159']),)\n"
     ]
    }
   ],
   "source": [
    "human_response = (\n",
    "    \"Cám ơn bạn mình sẽ thử mẫu đầu tiên.\\n\"\n",
    "    \"Bạn có thể chờ mình nói với ba mẹ được không\\n\"\n",
    ")\n",
    "\n",
    "human_command = Command(resume=human_response)\n",
    "events = graph.stream(human_command, config, stream_mode=\"updates\")\n",
    "for event in events:\n",
    "    for node, value in event.items():\n",
    "        if \"messages\" in value:\n",
    "                print(value[\"messages\"][-1].pretty_print())\n",
    "        else:\n",
    "            print(value)"
   ]
  },
  {
   "cell_type": "code",
   "execution_count": 50,
   "metadata": {},
   "outputs": [
    {
     "name": "stdout",
     "output_type": "stream",
     "text": [
      "> Node: get_user_deep_support_node\n",
      "================================\u001b[1m Human Message \u001b[0m=================================\n",
      "\n",
      "Mình đã cảm thấy vui hơn và tự tin hơn, nên chắc mình ko làm các bài tập đó. Cám ơn bạn nhé\n",
      "None\n",
      "> Node: analyze_user_input_router\n",
      "================================\u001b[1m Human Message \u001b[0m=================================\n",
      "\n",
      "Mình đã cảm thấy vui hơn và tự tin hơn, nên chắc mình ko làm các bài tập đó. Cám ơn bạn nhé\n",
      "None\n",
      "> Node: deep_support_node\n",
      "================================\u001b[1m Human Message \u001b[0m=================================\n",
      "\n",
      "AnVie rất vui khi bạn đã cảm thấy vui hơn và tự tin hơn. Tuy nhiên, AnVie nhận thấy bạn có vẻ hơi vội khi từ chối các bài tập thư giãn. Có lẽ, bạn vẫn còn một chút lo lắng nào đó mà chưa muốn đối diện trực tiếp phải không? \n",
      "\n",
      "Nếu đúng là như vậy, bạn đừng ngại chia sẻ với AnVie nhé. Chúng ta có thể cùng nhau tìm hiểu xem điều gì khiến bạn vẫn còn cảm thấy bất an. Hoặc nếu bạn cảm thấy thoải mái, AnVie có thể gợi ý một bài tập nhỏ khác, có thể phù hợp hơn với bạn.\n",
      "None\n",
      "> Node: get_user_deep_support_node\n",
      "(Interrupt(value=None, resumable=True, ns=['get_user_deep_support_node:5fe3cf63-0cf9-038b-e049-28c7977576da']),)\n"
     ]
    }
   ],
   "source": [
    "human_response = (\n",
    "    \"Mình đã cảm thấy vui hơn và tự tin hơn, nên chắc mình ko làm \"\n",
    "    \"các bài tập đó. Cám ơn bạn nhé\"\n",
    ")\n",
    "\n",
    "human_command = Command(resume=human_response)\n",
    "events = graph.stream(human_command, config, stream_mode=\"updates\")\n",
    "for event in events:\n",
    "    for node, value in event.items():\n",
    "        if \"messages\" in value:\n",
    "                print(value[\"messages\"][-1].pretty_print())\n",
    "        else:\n",
    "            print(value)"
   ]
  },
  {
   "cell_type": "code",
   "execution_count": 44,
   "metadata": {},
   "outputs": [],
   "source": [
    "values = graph.get_state(config).values"
   ]
  },
  {
   "cell_type": "code",
   "execution_count": 1,
   "metadata": {},
   "outputs": [],
   "source": [
    "state = {\n",
    " 'student_id': '21522304',\n",
    " 'student_name': 'Long Nguyễn',\n",
    " 'problem_detection': {'status': 'detected',\n",
    "  'problem_summary': 'Sinh viên buồn bã do điểm số thấp.',\n",
    "  'related_factors': ['học tập', 'cảm xúc'],\n",
    "  'needed_info': None},\n",
    " 'phq9_progress': [{'index': 1,\n",
    "   'question': 'Trong 2 tuần qua, bạn có cảm thấy ít hứng thú hoặc không còn thấy thích thú khi làm việc gì đó không?',\n",
    "   'answer_text': 'Có lúc trước mình thích chơi liên minh nhưng giờ ko muốn đụng vào nữa'},\n",
    "  {'index': 2,\n",
    "   'question': 'Trong 2 tuần qua, bạn có cảm thấy buồn, chán nản hoặc tuyệt vọng không?',\n",
    "   'answer_text': 'Mình cảm thấy rất buồn và chán không muốn làm gì hết'},\n",
    "  {'index': 3,\n",
    "   'question': 'Trong 2 tuần qua, bạn có gặp khó khăn khi ngủ hoặc ngủ quá nhiều không?',\n",
    "   'answer_text': 'Có sáng mình ngủ dậy rất trễ cỡ 10h hoặc 11h mình mới dậy'},\n",
    "  {'index': 4,\n",
    "   'question': 'Trong 2 tuần qua, bạn có cảm thấy mệt mỏi hoặc thiếu năng lượng không?',\n",
    "   'answer_text': 'Khi mình ngủ dậy thì hầu như không muốn làm gì hết chỉ muốn nằm trên giường và cảm giác rất uể oải'},\n",
    "  {'index': 5,\n",
    "   'question': 'Trong 2 tuần qua, bạn có cảm thấy chán ăn hoặc ăn quá nhiều không?',\n",
    "   'answer_text': 'Mình ăn ít hẳn đi và hấu như không muốn ăn'},\n",
    "  {'index': 6,\n",
    "   'question': 'Trong 2 tuần qua, bạn có cảm thấy mình là người thất bại hoặc khiến bản thân hoặc gia đình thất vọng không?',\n",
    "   'answer_text': 'Việc điểm thấp mình nghĩ gia đình mình thất vọng nên mình chưa nói cho họ'},\n",
    "  {'index': 7,\n",
    "   'question': 'Trong 2 tuần qua, bạn có gặp khó khăn trong việc tập trung vào những việc như đọc sách hay xem TV không?',\n",
    "   'answer_text': 'Cả hai việc đó mình đều khó tập trung lúc làm thì cứ suy nghĩ chuyện khác'},\n",
    "  {'index': 8,\n",
    "   'question': 'Trong 2 tuần qua, bạn có di chuyển hoặc nói chậm hơn bình thường đến mức người khác có thể nhận thấy không? Hoặc ngược lại – cảm thấy bồn chồn hoặc không thể ngồi yên?',\n",
    "   'answer_text': 'Mình không cảm thấy bồn chồn nhưng lúc nào cũng chậm chạp và không muốn phải làm gì'},\n",
    "  {'index': 9,\n",
    "   'question': 'Trong 2 tuần qua, bạn có nghĩ rằng thà chết còn hơn sống hoặc nghĩ đến việc tự làm hại bản thân không?',\n",
    "   'answer_text': 'Mình chưa nghĩ tới tự tử nhưng mình rất xợ khi nghĩ đến cảnh ba mẹ mình biết mình điểm thấp'}],\n",
    " 'phq9_index': 9,\n",
    " 'stress_level': 'Severe',\n",
    " 'student_summary': {'conversation_summary': 'Sinh viên chia sẻ cảm giác vô dụng và xấu hổ với gia đình. Bạn ấy mất hứng thú với những hoạt động yêu thích trước đây, cảm thấy buồn chán, ngủ dậy muộn, uể oải, ăn ít và không muốn ăn. Sinh viên lo lắng về việc điểm thấp sẽ khiến gia đình thất vọng và chưa dám nói với ba mẹ. Bạn ấy khó tập trung và cảm thấy chậm chạp, không muốn làm gì. Mặc dù chưa nghĩ đến tự tử, nhưng bạn ấy rất sợ khi ba mẹ biết điểm thấp.',\n",
    "  'problem_summary': 'Cảm xúc tiêu cực, học tập sa sút và lo lắng về áp lực gia đình.',\n",
    "  'emotional_state': 'Trầm cảm nặng (Severe), buồn chán, thất vọng, lo âu.',\n",
    "  'related_factors': 'Điểm thấp, áp lực gia đình, thiếu ngủ, mất hứng thú với hoạt động yêu thích.',\n",
    "  'coping_style': 'Trốn tránh (không chia sẻ điểm thấp với gia đình), bế tắc (cảm thấy vô dụng, không muốn làm gì).'},\n",
    "  'deep_support_summary': None\n",
    "}"
   ]
  },
  {
   "cell_type": "code",
   "execution_count": 2,
   "metadata": {},
   "outputs": [],
   "source": [
    "from app.models.students_model import Student\n",
    "\n",
    "\n",
    "student = Student (\n",
    "    student_name=state[\"student_name\"],\n",
    "    student_id = state[\"student_id\"],\n",
    "    phq_progress = state[\"phq9_progress\"],\n",
    "    stress_level = state[\"stress_level\"],\n",
    "    problem_detection = state[\"problem_detection\"],\n",
    "    student_summary = state[\"student_summary\"],\n",
    "    deep_support_summary = state[\"deep_support_summary\"]\n",
    ")"
   ]
  },
  {
   "cell_type": "code",
   "execution_count": 3,
   "metadata": {},
   "outputs": [],
   "source": [
    "from app.controllers.students_controller import create_student\n",
    "\n",
    "\n",
    "return_student = create_student(student)"
   ]
  },
  {
   "cell_type": "code",
   "execution_count": 6,
   "metadata": {},
   "outputs": [
    {
     "data": {
      "text/plain": [
       "{'id': '6849a25674e3c478764dffa0',\n",
       " 'student_name': 'Long Nguyễn',\n",
       " 'student_id': '21522304',\n",
       " 'phq_progress': [{'index': 1,\n",
       "   'question': 'Trong 2 tuần qua, bạn có cảm thấy ít hứng thú hoặc không còn thấy thích thú khi làm việc gì đó không?',\n",
       "   'answer_text': 'Có lúc trước mình thích chơi liên minh nhưng giờ ko muốn đụng vào nữa'},\n",
       "  {'index': 2,\n",
       "   'question': 'Trong 2 tuần qua, bạn có cảm thấy buồn, chán nản hoặc tuyệt vọng không?',\n",
       "   'answer_text': 'Mình cảm thấy rất buồn và chán không muốn làm gì hết'},\n",
       "  {'index': 3,\n",
       "   'question': 'Trong 2 tuần qua, bạn có gặp khó khăn khi ngủ hoặc ngủ quá nhiều không?',\n",
       "   'answer_text': 'Có sáng mình ngủ dậy rất trễ cỡ 10h hoặc 11h mình mới dậy'},\n",
       "  {'index': 4,\n",
       "   'question': 'Trong 2 tuần qua, bạn có cảm thấy mệt mỏi hoặc thiếu năng lượng không?',\n",
       "   'answer_text': 'Khi mình ngủ dậy thì hầu như không muốn làm gì hết chỉ muốn nằm trên giường và cảm giác rất uể oải'},\n",
       "  {'index': 5,\n",
       "   'question': 'Trong 2 tuần qua, bạn có cảm thấy chán ăn hoặc ăn quá nhiều không?',\n",
       "   'answer_text': 'Mình ăn ít hẳn đi và hấu như không muốn ăn'},\n",
       "  {'index': 6,\n",
       "   'question': 'Trong 2 tuần qua, bạn có cảm thấy mình là người thất bại hoặc khiến bản thân hoặc gia đình thất vọng không?',\n",
       "   'answer_text': 'Việc điểm thấp mình nghĩ gia đình mình thất vọng nên mình chưa nói cho họ'},\n",
       "  {'index': 7,\n",
       "   'question': 'Trong 2 tuần qua, bạn có gặp khó khăn trong việc tập trung vào những việc như đọc sách hay xem TV không?',\n",
       "   'answer_text': 'Cả hai việc đó mình đều khó tập trung lúc làm thì cứ suy nghĩ chuyện khác'},\n",
       "  {'index': 8,\n",
       "   'question': 'Trong 2 tuần qua, bạn có di chuyển hoặc nói chậm hơn bình thường đến mức người khác có thể nhận thấy không? Hoặc ngược lại – cảm thấy bồn chồn hoặc không thể ngồi yên?',\n",
       "   'answer_text': 'Mình không cảm thấy bồn chồn nhưng lúc nào cũng chậm chạp và không muốn phải làm gì'},\n",
       "  {'index': 9,\n",
       "   'question': 'Trong 2 tuần qua, bạn có nghĩ rằng thà chết còn hơn sống hoặc nghĩ đến việc tự làm hại bản thân không?',\n",
       "   'answer_text': 'Mình chưa nghĩ tới tự tử nhưng mình rất xợ khi nghĩ đến cảnh ba mẹ mình biết mình điểm thấp'}],\n",
       " 'stress_level': 'Severe',\n",
       " 'problem_detection': {'status': 'detected',\n",
       "  'problem_summary': 'Sinh viên buồn bã do điểm số thấp.',\n",
       "  'related_factors': ['học tập', 'cảm xúc'],\n",
       "  'needed_info': None},\n",
       " 'student_summary': {'conversation_summary': 'Sinh viên chia sẻ cảm giác vô dụng và xấu hổ với gia đình. Bạn ấy mất hứng thú với những hoạt động yêu thích trước đây, cảm thấy buồn chán, ngủ dậy muộn, uể oải, ăn ít và không muốn ăn. Sinh viên lo lắng về việc điểm thấp sẽ khiến gia đình thất vọng và chưa dám nói với ba mẹ. Bạn ấy khó tập trung và cảm thấy chậm chạp, không muốn làm gì. Mặc dù chưa nghĩ đến tự tử, nhưng bạn ấy rất sợ khi ba mẹ biết điểm thấp.',\n",
       "  'problem_summary': 'Cảm xúc tiêu cực, học tập sa sút và lo lắng về áp lực gia đình.',\n",
       "  'emotional_state': 'Trầm cảm nặng (Severe), buồn chán, thất vọng, lo âu.',\n",
       "  'related_factors': 'Điểm thấp, áp lực gia đình, thiếu ngủ, mất hứng thú với hoạt động yêu thích.',\n",
       "  'coping_style': 'Trốn tránh (không chia sẻ điểm thấp với gia đình), bế tắc (cảm thấy vô dụng, không muốn làm gì).'},\n",
       " 'deep_support_summary': None}"
      ]
     },
     "execution_count": 6,
     "metadata": {},
     "output_type": "execute_result"
    }
   ],
   "source": [
    "return_student"
   ]
  }
 ],
 "metadata": {
  "kernelspec": {
   "display_name": ".psycho_chatbot",
   "language": "python",
   "name": "python3"
  },
  "language_info": {
   "codemirror_mode": {
    "name": "ipython",
    "version": 3
   },
   "file_extension": ".py",
   "mimetype": "text/x-python",
   "name": "python",
   "nbconvert_exporter": "python",
   "pygments_lexer": "ipython3",
   "version": "3.12.5"
  }
 },
 "nbformat": 4,
 "nbformat_minor": 2
}
