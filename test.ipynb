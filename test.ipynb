{
 "cells": [
  {
   "cell_type": "code",
   "execution_count": 1,
   "metadata": {},
   "outputs": [
    {
     "data": {
      "text/plain": [
       "True"
      ]
     },
     "execution_count": 1,
     "metadata": {},
     "output_type": "execute_result"
    }
   ],
   "source": [
    "from app.agents.core.state import init_chatbot_state\n",
    "from app.agents.core.graph import build_graph\n",
    "from langgraph.types import Command\n",
    "from dotenv import load_dotenv\n",
    "import os \n",
    "\n",
    "load_dotenv(override=True)"
   ]
  },
  {
   "cell_type": "code",
   "execution_count": 2,
   "metadata": {},
   "outputs": [
    {
     "name": "stdout",
     "output_type": "stream",
     "text": [
      "---\n",
      "config:\n",
      "  flowchart:\n",
      "    curve: linear\n",
      "---\n",
      "graph TD;\n",
      "\t__start__([<p>__start__</p>]):::first\n",
      "\tgreeting_node(greeting_node)\n",
      "\tget_user_problem_node(get_user_problem_node)\n",
      "\tget_problem_node(get_problem_node)\n",
      "\tfollowup_problem_detect_node(followup_problem_detect_node)\n",
      "\temotion_support_node(emotion_support_node)\n",
      "\tget_user_emotion_node(get_user_emotion_node)\n",
      "\tproblem_depth_analysis_node(problem_depth_analysis_node)\n",
      "\task_emotion_check_node(ask_emotion_check_node)\n",
      "\task_other_node(ask_other_node)\n",
      "\task_phq_9_node(ask_phq_9_node)\n",
      "\tget_user_answer_phq9_node(get_user_answer_phq9_node)\n",
      "\tget_level_of_depression_node(get_level_of_depression_node)\n",
      "\tproblem_summary_node(problem_summary_node)\n",
      "\tcheck_problem_detected_router(check_problem_detected_router)\n",
      "\tcheck_problem_depth_analysis_router(check_problem_depth_analysis_router)\n",
      "\tcheck_full_phq9_answer_router(check_full_phq9_answer_router)\n",
      "\t__end__([<p>__end__</p>]):::last\n",
      "\t__start__ --> greeting_node;\n",
      "\task_emotion_check_node --> get_user_emotion_node;\n",
      "\task_other_node --> get_user_emotion_node;\n",
      "\task_phq_9_node --> get_user_answer_phq9_node;\n",
      "\tcheck_full_phq9_answer_router -. &nbsp;no&nbsp; .-> ask_phq_9_node;\n",
      "\tcheck_full_phq9_answer_router -. &nbsp;yes&nbsp; .-> get_level_of_depression_node;\n",
      "\tcheck_problem_depth_analysis_router -. &nbsp;ask_emotion_check&nbsp; .-> ask_emotion_check_node;\n",
      "\tcheck_problem_depth_analysis_router -. &nbsp;ask_other&nbsp; .-> ask_other_node;\n",
      "\tcheck_problem_depth_analysis_router -. &nbsp;ask_PHQ9&nbsp; .-> ask_phq_9_node;\n",
      "\tcheck_problem_depth_analysis_router -. &nbsp;move_to_step_5&nbsp; .-> problem_summary_node;\n",
      "\tcheck_problem_detected_router -. &nbsp;detected&nbsp; .-> emotion_support_node;\n",
      "\tcheck_problem_detected_router -. &nbsp;insufficient_info&nbsp; .-> followup_problem_detect_node;\n",
      "\temotion_support_node --> get_user_emotion_node;\n",
      "\tfollowup_problem_detect_node --> get_user_problem_node;\n",
      "\tget_level_of_depression_node --> problem_summary_node;\n",
      "\tget_problem_node --> check_problem_detected_router;\n",
      "\tget_user_answer_phq9_node --> check_full_phq9_answer_router;\n",
      "\tget_user_emotion_node --> problem_depth_analysis_node;\n",
      "\tget_user_problem_node --> get_problem_node;\n",
      "\tgreeting_node --> get_user_problem_node;\n",
      "\tproblem_depth_analysis_node --> check_problem_depth_analysis_router;\n",
      "\tcheck_full_phq9_answer_router -.-> __end__;\n",
      "\tproblem_summary_node --> __end__;\n",
      "\tclassDef default fill:#f2f0ff,line-height:1.2\n",
      "\tclassDef first fill-opacity:0\n",
      "\tclassDef last fill:#bfb6fc\n",
      "\n"
     ]
    }
   ],
   "source": [
    "graph = build_graph()\n",
    "graph_text = str(graph.get_graph().draw_mermaid())\n",
    "print(graph_text)"
   ]
  },
  {
   "cell_type": "code",
   "execution_count": 3,
   "metadata": {},
   "outputs": [
    {
     "name": "stdout",
     "output_type": "stream",
     "text": [
      "> Node: greeting_node\n",
      "==================================\u001b[1m Ai Message \u001b[0m==================================\n",
      "\n",
      "Chào bạn! Mình là AnVie, một người bạn đồng hành luôn sẵn lòng lắng nghe và chia sẻ cùng bạn trên hành trình sinh viên đầy thú vị nhưng cũng không ít thử thách này.\n",
      "\n",
      "Hôm nay bạn thế nào? Có điều gì bạn muốn chia sẻ, dù là niềm vui nho nhỏ hay những nỗi lo đang chất chứa trong lòng không? Mình ở đây để lắng nghe bạn một cách chân thành nhất. Đừng ngại ngần nhé!\n",
      "None\n",
      "> Node: get_user_problem_node\n",
      "(Interrupt(value=None, resumable=True, ns=['get_user_problem_node:470c4309-ee5b-3648-2025-9e7dd4759221']),)\n"
     ]
    }
   ],
   "source": [
    "state = init_chatbot_state()\n",
    "# Thread\n",
    "config = {\"configurable\": {\"thread_id\": \"1\"}}\n",
    "\n",
    "# Run the graph until the first interruption\n",
    "for event in graph.stream(state, config):\n",
    "    for node, value in event.items():\n",
    "        if \"messages\" in value:\n",
    "                print(value[\"messages\"][-1].pretty_print())\n",
    "        else:\n",
    "            print(value)"
   ]
  },
  {
   "cell_type": "code",
   "execution_count": 4,
   "metadata": {},
   "outputs": [
    {
     "name": "stdout",
     "output_type": "stream",
     "text": [
      "> Node: get_user_problem_node\n",
      "================================\u001b[1m Human Message \u001b[0m=================================\n",
      "\n",
      "Mình bị điểm thấp nên mình rất buồn\n",
      "None\n",
      "> Node: problem_detection\n",
      "================================\u001b[1m Human Message \u001b[0m=================================\n",
      "\n",
      "Mình bị điểm thấp nên mình rất buồn\n",
      "None\n",
      "> Node: check_problem_detected_router\n",
      "> Problem found: {'status': 'detected', 'problem_summary': 'Sinh viên buồn bã do điểm số thấp.', 'related_factors': ['học tập', 'cảm xúc'], 'needed_info': None}\n",
      "================================\u001b[1m Human Message \u001b[0m=================================\n",
      "\n",
      "Mình bị điểm thấp nên mình rất buồn\n",
      "None\n",
      "> Node: emotion_support_node\n",
      "==================================\u001b[1m Ai Message \u001b[0m==================================\n",
      "\n",
      "Mình hiểu rằng bạn đang rất buồn vì điểm số không được như mong đợi. Điều này chắc hẳn khiến bạn thất vọng và có thể ảnh hưởng đến động lực của bạn.\n",
      "\n",
      "Nếu bạn muốn, bạn có thể chia sẻ thêm về những suy nghĩ và cảm xúc của bạn lúc này được không?\n",
      "None\n",
      "> Node: get_user_emotion_node\n",
      "(Interrupt(value=None, resumable=True, ns=['get_user_emotion_node:4f5041c9-f099-d795-5d3d-5d8c2e1b7591']),)\n"
     ]
    }
   ],
   "source": [
    "human_response = \"Mình bị điểm thấp nên mình rất buồn\"\n",
    "\n",
    "human_command = Command(resume=human_response)\n",
    "events = graph.stream(human_command, config, stream_mode=\"updates\")\n",
    "for event in events:\n",
    "    for node, value in event.items():\n",
    "        if \"messages\" in value:\n",
    "                print(value[\"messages\"][-1].pretty_print())\n",
    "        else:\n",
    "            print(value)"
   ]
  },
  {
   "cell_type": "code",
   "execution_count": 5,
   "metadata": {},
   "outputs": [
    {
     "name": "stdout",
     "output_type": "stream",
     "text": [
      "> Node: get_user_emotion_node\n",
      "================================\u001b[1m Human Message \u001b[0m=================================\n",
      "\n",
      "Mình cảm thấy mình vô dụng và khiến gia đình thấy xấu hổ\n",
      "None\n",
      "> Node: problem_depth_analysis_node\n",
      "> Promblem depth analysis: {'status': 'insufficient_info', 'reason': 'Sinh viên thể hiện cảm xúc tiêu cực (vô dụng, xấu hổ) liên quan đến điểm số thấp, nhưng cần đánh giá mức độ để có hướng hỗ trợ phù hợp.', 'emotion_related': True, 'next_step': 'ask_PHQ9'}\n",
      "================================\u001b[1m Human Message \u001b[0m=================================\n",
      "\n",
      "Mình cảm thấy mình vô dụng và khiến gia đình thấy xấu hổ\n",
      "None\n",
      "> Node: check_problem_depth_analysis_router\n",
      "================================\u001b[1m Human Message \u001b[0m=================================\n",
      "\n",
      "Mình cảm thấy mình vô dụng và khiến gia đình thấy xấu hổ\n",
      "None\n",
      "> Node: ask_phq_9_node\n",
      "> Origin PHQ9 question: Trong 2 tuần qua, bạn có cảm thấy ít hứng thú hoặc không còn thấy thích thú khi làm việc gì đó không?\n",
      "> Ask PHQ-9 question: Dạo gần đây, bạn có thấy những hoạt động mà trước đây bạn rất yêu thích, giờ không còn mang lại cho bạn nhiều niềm vui như trước nữa không?\n",
      "==================================\u001b[1m Ai Message \u001b[0m==================================\n",
      "\n",
      "Dạo gần đây, bạn có thấy những hoạt động mà trước đây bạn rất yêu thích, giờ không còn mang lại cho bạn nhiều niềm vui như trước nữa không?\n",
      "None\n",
      "> Node: get_user_answer_phq9_node\n",
      "(Interrupt(value=None, resumable=True, ns=['get_user_answer_phq9_node:9e757a15-70a9-04a8-c2c3-193f0222b76c']),)\n"
     ]
    }
   ],
   "source": [
    "human_response = \"Mình cảm thấy mình vô dụng và khiến gia đình thấy xấu hổ\"\n",
    "\n",
    "human_command = Command(resume=human_response)\n",
    "events = graph.stream(human_command, config, stream_mode=\"updates\")\n",
    "for event in events:\n",
    "    for node, value in event.items():\n",
    "        if \"messages\" in value:\n",
    "                print(value[\"messages\"][-1].pretty_print())\n",
    "        else:\n",
    "            print(value)"
   ]
  },
  {
   "cell_type": "code",
   "execution_count": 6,
   "metadata": {},
   "outputs": [
    {
     "name": "stdout",
     "output_type": "stream",
     "text": [
      "> Node: get_user_answer_phq9_node\n",
      "================================\u001b[1m Human Message \u001b[0m=================================\n",
      "\n",
      "Có lúc trước mình thích chơi liên minh nhưng giờ ko muốn đụng vào nữa\n",
      "None\n",
      "> Node: get_full_answer_router\n",
      "> Full phq9 answer or not: no\n",
      "================================\u001b[1m Human Message \u001b[0m=================================\n",
      "\n",
      "Có lúc trước mình thích chơi liên minh nhưng giờ ko muốn đụng vào nữa\n",
      "None\n",
      "> Node: ask_phq_9_node\n",
      "> Origin PHQ9 question: Trong 2 tuần qua, bạn có cảm thấy buồn, chán nản hoặc tuyệt vọng không?\n",
      "> Ask PHQ-9 question: Bạn có thể cho mình biết trong khoảng hai tuần trở lại đây, bạn có thường xuyên cảm thấy mất hứng thú hoặc không còn thấy vui vẻ khi làm những việc mình từng thích không?\n",
      "==================================\u001b[1m Ai Message \u001b[0m==================================\n",
      "\n",
      "Bạn có thể cho mình biết trong khoảng hai tuần trở lại đây, bạn có thường xuyên cảm thấy mất hứng thú hoặc không còn thấy vui vẻ khi làm những việc mình từng thích không?\n",
      "None\n",
      "> Node: get_user_answer_phq9_node\n",
      "(Interrupt(value=None, resumable=True, ns=['get_user_answer_phq9_node:3015af95-1835-ee16-d1a1-9f8a99404817']),)\n"
     ]
    }
   ],
   "source": [
    "human_response = \"Có lúc trước mình thích chơi liên minh nhưng giờ ko muốn đụng vào nữa\"\n",
    "\n",
    "human_command = Command(resume=human_response)\n",
    "events = graph.stream(human_command, config, stream_mode=\"updates\")\n",
    "for event in events:\n",
    "    for node, value in event.items():\n",
    "        if \"messages\" in value:\n",
    "                print(value[\"messages\"][-1].pretty_print())\n",
    "        else:\n",
    "            print(value)"
   ]
  },
  {
   "cell_type": "code",
   "execution_count": 7,
   "metadata": {},
   "outputs": [
    {
     "name": "stdout",
     "output_type": "stream",
     "text": [
      "> Node: get_user_answer_phq9_node\n",
      "================================\u001b[1m Human Message \u001b[0m=================================\n",
      "\n",
      "Mình cảm thấy rất buồn và chán không muốn làm gì hết\n",
      "None\n",
      "> Node: get_full_answer_router\n",
      "> Full phq9 answer or not: no\n",
      "================================\u001b[1m Human Message \u001b[0m=================================\n",
      "\n",
      "Mình cảm thấy rất buồn và chán không muốn làm gì hết\n",
      "None\n",
      "> Node: ask_phq_9_node\n",
      "> Origin PHQ9 question: Trong 2 tuần qua, bạn có gặp khó khăn khi ngủ hoặc ngủ quá nhiều không?\n",
      "> Ask PHQ-9 question: Thời gian gần đây, giấc ngủ của bạn có bị ảnh hưởng gì không, ví dụ như khó ngủ hoặc ngủ nhiều hơn bình thường không?\n",
      "==================================\u001b[1m Ai Message \u001b[0m==================================\n",
      "\n",
      "Thời gian gần đây, giấc ngủ của bạn có bị ảnh hưởng gì không, ví dụ như khó ngủ hoặc ngủ nhiều hơn bình thường không?\n",
      "None\n",
      "> Node: get_user_answer_phq9_node\n",
      "(Interrupt(value=None, resumable=True, ns=['get_user_answer_phq9_node:66fac771-557f-daa6-1873-fb44dddd6782']),)\n"
     ]
    }
   ],
   "source": [
    "human_response = (\"Mình cảm thấy rất buồn và chán không muốn làm gì hết\")\n",
    "\n",
    "human_command = Command(resume=human_response)\n",
    "events = graph.stream(human_command, config, stream_mode=\"updates\")\n",
    "for event in events:\n",
    "    for node, value in event.items():\n",
    "        if \"messages\" in value:\n",
    "                print(value[\"messages\"][-1].pretty_print())\n",
    "        else:\n",
    "            print(value)"
   ]
  },
  {
   "cell_type": "code",
   "execution_count": 8,
   "metadata": {},
   "outputs": [
    {
     "name": "stdout",
     "output_type": "stream",
     "text": [
      "> Node: get_user_answer_phq9_node\n",
      "================================\u001b[1m Human Message \u001b[0m=================================\n",
      "\n",
      "Có sáng mình ngủ dậy rất trễ cỡ 10h hoặc 11h mình mới dậy\n",
      "None\n",
      "> Node: get_full_answer_router\n",
      "> Full phq9 answer or not: no\n",
      "================================\u001b[1m Human Message \u001b[0m=================================\n",
      "\n",
      "Có sáng mình ngủ dậy rất trễ cỡ 10h hoặc 11h mình mới dậy\n",
      "None\n",
      "> Node: ask_phq_9_node\n",
      "> Origin PHQ9 question: Trong 2 tuần qua, bạn có cảm thấy mệt mỏi hoặc thiếu năng lượng không?\n",
      "> Ask PHQ-9 question: Dạo gần đây, bạn có cảm thấy lúc nào cũng uể oải, không có chút sức lực nào không?\n",
      "==================================\u001b[1m Ai Message \u001b[0m==================================\n",
      "\n",
      "Dạo gần đây, bạn có cảm thấy lúc nào cũng uể oải, không có chút sức lực nào không?\n",
      "None\n",
      "> Node: get_user_answer_phq9_node\n",
      "(Interrupt(value=None, resumable=True, ns=['get_user_answer_phq9_node:d1706330-11e5-8ef0-9914-33ea7816a428']),)\n"
     ]
    }
   ],
   "source": [
    "human_response = (\"Có sáng mình ngủ dậy rất trễ cỡ 10h hoặc 11h mình mới dậy\")\n",
    "\n",
    "human_command = Command(resume=human_response)\n",
    "events = graph.stream(human_command, config, stream_mode=\"updates\")\n",
    "for event in events:\n",
    "    for node, value in event.items():\n",
    "        if \"messages\" in value:\n",
    "                print(value[\"messages\"][-1].pretty_print())\n",
    "        else:\n",
    "            print(value)"
   ]
  },
  {
   "cell_type": "code",
   "execution_count": 9,
   "metadata": {},
   "outputs": [
    {
     "name": "stdout",
     "output_type": "stream",
     "text": [
      "> Node: get_user_answer_phq9_node\n",
      "================================\u001b[1m Human Message \u001b[0m=================================\n",
      "\n",
      "Khi mình ngủ dậy thì hầu như không muốn làm gì hết chỉ muốn nằm trên giường và cảm giác rất uể oải\n",
      "None\n",
      "> Node: get_full_answer_router\n",
      "> Full phq9 answer or not: no\n",
      "================================\u001b[1m Human Message \u001b[0m=================================\n",
      "\n",
      "Khi mình ngủ dậy thì hầu như không muốn làm gì hết chỉ muốn nằm trên giường và cảm giác rất uể oải\n",
      "None\n",
      "> Node: ask_phq_9_node\n",
      "> Origin PHQ9 question: Trong 2 tuần qua, bạn có cảm thấy chán ăn hoặc ăn quá nhiều không?\n",
      "> Ask PHQ-9 question: Bạn có để ý rằng trong khoảng hai tuần gần đây, khẩu vị của mình có gì thay đổi không? Ví dụ như, bạn có cảm thấy chán ăn hoặc ăn nhiều hơn bình thường không?\n",
      "==================================\u001b[1m Ai Message \u001b[0m==================================\n",
      "\n",
      "Bạn có để ý rằng trong khoảng hai tuần gần đây, khẩu vị của mình có gì thay đổi không? Ví dụ như, bạn có cảm thấy chán ăn hoặc ăn nhiều hơn bình thường không?\n",
      "None\n",
      "> Node: get_user_answer_phq9_node\n",
      "(Interrupt(value=None, resumable=True, ns=['get_user_answer_phq9_node:066603cf-f1a6-45a3-98f4-d79025b6e966']),)\n"
     ]
    }
   ],
   "source": [
    "human_response = (\"Khi mình ngủ dậy thì hầu như không muốn làm gì hết chỉ muốn nằm trên giường và cảm giác rất uể oải\")\n",
    "\n",
    "human_command = Command(resume=human_response)\n",
    "events = graph.stream(human_command, config, stream_mode=\"updates\")\n",
    "for event in events:\n",
    "    for node, value in event.items():\n",
    "        if \"messages\" in value:\n",
    "                print(value[\"messages\"][-1].pretty_print())\n",
    "        else:\n",
    "            print(value)"
   ]
  },
  {
   "cell_type": "code",
   "execution_count": 10,
   "metadata": {},
   "outputs": [
    {
     "name": "stdout",
     "output_type": "stream",
     "text": [
      "> Node: get_user_answer_phq9_node\n",
      "================================\u001b[1m Human Message \u001b[0m=================================\n",
      "\n",
      "Mình ăn ít hẳn đi và hấu như không muốn ăn\n",
      "None\n",
      "> Node: get_full_answer_router\n",
      "> Full phq9 answer or not: no\n",
      "================================\u001b[1m Human Message \u001b[0m=================================\n",
      "\n",
      "Mình ăn ít hẳn đi và hấu như không muốn ăn\n",
      "None\n",
      "> Node: ask_phq_9_node\n",
      "> Origin PHQ9 question: Trong 2 tuần qua, bạn có cảm thấy mình là người thất bại hoặc khiến bản thân hoặc gia đình thất vọng không?\n",
      "> Ask PHQ-9 question: Trong khoảng hai tuần trở lại đây, bạn có cảm thấy mình không đạt được những điều mình mong muốn, hoặc có những điều làm bạn thấy có lỗi với bản thân hay gia đình không?\n",
      "==================================\u001b[1m Ai Message \u001b[0m==================================\n",
      "\n",
      "Trong khoảng hai tuần trở lại đây, bạn có cảm thấy mình không đạt được những điều mình mong muốn, hoặc có những điều làm bạn thấy có lỗi với bản thân hay gia đình không?\n",
      "None\n",
      "> Node: get_user_answer_phq9_node\n",
      "(Interrupt(value=None, resumable=True, ns=['get_user_answer_phq9_node:3ce575fb-409c-88e3-8990-159b4351ff7b']),)\n"
     ]
    }
   ],
   "source": [
    "human_response = (\"Mình ăn ít hẳn đi và hấu như không muốn ăn\")\n",
    "\n",
    "human_command = Command(resume=human_response)\n",
    "events = graph.stream(human_command, config, stream_mode=\"updates\")\n",
    "for event in events:\n",
    "    for node, value in event.items():\n",
    "        if \"messages\" in value:\n",
    "                print(value[\"messages\"][-1].pretty_print())\n",
    "        else:\n",
    "            print(value)"
   ]
  },
  {
   "cell_type": "code",
   "execution_count": 11,
   "metadata": {},
   "outputs": [
    {
     "name": "stdout",
     "output_type": "stream",
     "text": [
      "> Node: get_user_answer_phq9_node\n",
      "================================\u001b[1m Human Message \u001b[0m=================================\n",
      "\n",
      "Việc điểm thấp mình nghĩ gia đình mình thất vọng nên mình chưa nói cho họ\n",
      "None\n",
      "> Node: get_full_answer_router\n",
      "> Full phq9 answer or not: no\n",
      "================================\u001b[1m Human Message \u001b[0m=================================\n",
      "\n",
      "Việc điểm thấp mình nghĩ gia đình mình thất vọng nên mình chưa nói cho họ\n",
      "None\n",
      "> Node: ask_phq_9_node\n",
      "> Origin PHQ9 question: Trong 2 tuần qua, bạn có gặp khó khăn trong việc tập trung vào những việc như đọc sách hay xem TV không?\n",
      "> Ask PHQ-9 question: Dạo gần đây, bạn có thấy mình khó tập trung khi đọc sách, xem ti-vi hoặc làm việc gì đó cần sự tập trung không?\n",
      "==================================\u001b[1m Ai Message \u001b[0m==================================\n",
      "\n",
      "Dạo gần đây, bạn có thấy mình khó tập trung khi đọc sách, xem ti-vi hoặc làm việc gì đó cần sự tập trung không?\n",
      "None\n",
      "> Node: get_user_answer_phq9_node\n",
      "(Interrupt(value=None, resumable=True, ns=['get_user_answer_phq9_node:31652a3f-bb2d-c616-7bd7-83af38d0f682']),)\n"
     ]
    }
   ],
   "source": [
    "human_response = (\"Việc điểm thấp mình nghĩ gia đình mình thất vọng nên mình chưa nói cho họ\")\n",
    "\n",
    "human_command = Command(resume=human_response)\n",
    "events = graph.stream(human_command, config, stream_mode=\"updates\")\n",
    "for event in events:\n",
    "    for node, value in event.items():\n",
    "        if \"messages\" in value:\n",
    "                print(value[\"messages\"][-1].pretty_print())\n",
    "        else:\n",
    "            print(value)"
   ]
  },
  {
   "cell_type": "code",
   "execution_count": 12,
   "metadata": {},
   "outputs": [
    {
     "name": "stdout",
     "output_type": "stream",
     "text": [
      "> Node: get_user_answer_phq9_node\n",
      "================================\u001b[1m Human Message \u001b[0m=================================\n",
      "\n",
      "Cả hai việc đó mình đều khó tập trung lúc làm thì cứ suy nghĩ chuyện khác\n",
      "None\n",
      "> Node: get_full_answer_router\n",
      "> Full phq9 answer or not: no\n",
      "================================\u001b[1m Human Message \u001b[0m=================================\n",
      "\n",
      "Cả hai việc đó mình đều khó tập trung lúc làm thì cứ suy nghĩ chuyện khác\n",
      "None\n",
      "> Node: ask_phq_9_node\n",
      "> Origin PHQ9 question: Trong 2 tuần qua, bạn có di chuyển hoặc nói chậm hơn bình thường đến mức người khác có thể nhận thấy không? Hoặc ngược lại – cảm thấy bồn chồn hoặc không thể ngồi yên?\n",
      "> Ask PHQ-9 question: Gần đây, bạn có cảm thấy mọi thứ mình làm chậm chạp hơn bình thường, hoặc ngược lại, bồn chồn và không thể ngồi yên không?\n",
      "==================================\u001b[1m Ai Message \u001b[0m==================================\n",
      "\n",
      "Gần đây, bạn có cảm thấy mọi thứ mình làm chậm chạp hơn bình thường, hoặc ngược lại, bồn chồn và không thể ngồi yên không?\n",
      "None\n",
      "> Node: get_user_answer_phq9_node\n",
      "(Interrupt(value=None, resumable=True, ns=['get_user_answer_phq9_node:0e8fbc86-0188-3e5c-a719-6449d59441ad']),)\n"
     ]
    }
   ],
   "source": [
    "human_response = (\"Cả hai việc đó mình đều khó tập trung lúc làm thì cứ suy nghĩ chuyện khác\")\n",
    "\n",
    "human_command = Command(resume=human_response)\n",
    "events = graph.stream(human_command, config, stream_mode=\"updates\")\n",
    "for event in events:\n",
    "    for node, value in event.items():\n",
    "        if \"messages\" in value:\n",
    "                print(value[\"messages\"][-1].pretty_print())\n",
    "        else:\n",
    "            print(value)"
   ]
  },
  {
   "cell_type": "code",
   "execution_count": 13,
   "metadata": {},
   "outputs": [
    {
     "name": "stdout",
     "output_type": "stream",
     "text": [
      "> Node: get_user_answer_phq9_node\n",
      "================================\u001b[1m Human Message \u001b[0m=================================\n",
      "\n",
      "Mình không cảm thấy bồn chồn nhưng lúc nào cũng chậm chạp và không muốn phải làm gì\n",
      "None\n",
      "> Node: get_full_answer_router\n",
      "> Full phq9 answer or not: no\n",
      "================================\u001b[1m Human Message \u001b[0m=================================\n",
      "\n",
      "Mình không cảm thấy bồn chồn nhưng lúc nào cũng chậm chạp và không muốn phải làm gì\n",
      "None\n",
      "> Node: ask_phq_9_node\n",
      "> Origin PHQ9 question: Trong 2 tuần qua, bạn có nghĩ rằng thà chết còn hơn sống hoặc nghĩ đến việc tự làm hại bản thân không?\n",
      "> Ask PHQ-9 question: AnVie hiểu rằng có những lúc mọi thứ trở nên khó khăn. Dạo gần đây, bạn có bao giờ cảm thấy cuộc sống không còn ý nghĩa, hoặc có ý nghĩ làm tổn thương đến bản thân mình không?\n",
      "==================================\u001b[1m Ai Message \u001b[0m==================================\n",
      "\n",
      "AnVie hiểu rằng có những lúc mọi thứ trở nên khó khăn. Dạo gần đây, bạn có bao giờ cảm thấy cuộc sống không còn ý nghĩa, hoặc có ý nghĩ làm tổn thương đến bản thân mình không?\n",
      "None\n",
      "> Node: get_user_answer_phq9_node\n",
      "(Interrupt(value=None, resumable=True, ns=['get_user_answer_phq9_node:d6c8f89f-cff5-7800-5e0a-86b6248cb26a']),)\n"
     ]
    }
   ],
   "source": [
    "human_response = (\"Mình không cảm thấy bồn chồn nhưng lúc nào cũng chậm chạp và không muốn phải làm gì\")\n",
    "\n",
    "human_command = Command(resume=human_response)\n",
    "events = graph.stream(human_command, config, stream_mode=\"updates\")\n",
    "for event in events:\n",
    "    for node, value in event.items():\n",
    "        if \"messages\" in value:\n",
    "                print(value[\"messages\"][-1].pretty_print())\n",
    "        else:\n",
    "            print(value)"
   ]
  },
  {
   "cell_type": "code",
   "execution_count": 14,
   "metadata": {},
   "outputs": [
    {
     "name": "stdout",
     "output_type": "stream",
     "text": [
      "> Node: get_user_answer_phq9_node\n",
      "================================\u001b[1m Human Message \u001b[0m=================================\n",
      "\n",
      "Mình chưa nghĩ tới tự tử nhưng mình rất xợ khi nghĩ đến cảnh ba mẹ mình biết mình điểm thấp\n",
      "None\n",
      "> Node: get_full_answer_router\n",
      "> Full phq9 answer or not: yes\n",
      "================================\u001b[1m Human Message \u001b[0m=================================\n",
      "\n",
      "Mình chưa nghĩ tới tự tử nhưng mình rất xợ khi nghĩ đến cảnh ba mẹ mình biết mình điểm thấp\n",
      "None\n",
      "> Node: get_level_of_depression_node\n",
      "================================\u001b[1m Human Message \u001b[0m=================================\n",
      "\n",
      "Mình chưa nghĩ tới tự tử nhưng mình rất xợ khi nghĩ đến cảnh ba mẹ mình biết mình điểm thấp\n",
      "None\n",
      "> Node: problem_summary_node\n",
      "================================\u001b[1m Human Message \u001b[0m=================================\n",
      "\n",
      "Mình chưa nghĩ tới tự tử nhưng mình rất xợ khi nghĩ đến cảnh ba mẹ mình biết mình điểm thấp\n",
      "None\n"
     ]
    }
   ],
   "source": [
    "human_response = (\"Mình chưa nghĩ tới tự tử nhưng mình rất xợ khi nghĩ đến cảnh ba mẹ mình biết mình điểm thấp\")\n",
    "\n",
    "human_command = Command(resume=human_response)\n",
    "events = graph.stream(human_command, config, stream_mode=\"updates\")\n",
    "for event in events:\n",
    "    for node, value in event.items():\n",
    "        if \"messages\" in value:\n",
    "                print(value[\"messages\"][-1].pretty_print())\n",
    "        else:\n",
    "            print(value)"
   ]
  },
  {
   "cell_type": "code",
   "execution_count": 15,
   "metadata": {},
   "outputs": [
    {
     "data": {
      "text/plain": [
       "{'user_input': 'Mình chưa nghĩ tới tự tử nhưng mình rất xợ khi nghĩ đến cảnh ba mẹ mình biết mình điểm thấp',\n",
       " 'user_id': None,\n",
       " 'messages': [AIMessage(content='Chào bạn! Mình là AnVie, một người bạn đồng hành luôn sẵn lòng lắng nghe và chia sẻ cùng bạn trên hành trình sinh viên đầy thú vị nhưng cũng không ít thử thách này.\\n\\nHôm nay bạn thế nào? Có điều gì bạn muốn chia sẻ, dù là niềm vui nho nhỏ hay những nỗi lo đang chất chứa trong lòng không? Mình ở đây để lắng nghe bạn một cách chân thành nhất. Đừng ngại ngần nhé!', additional_kwargs={}, response_metadata={}, id='d9798695-056a-45c9-a3bf-ddfc455f7918'),\n",
       "  HumanMessage(content='Mình bị điểm thấp nên mình rất buồn', additional_kwargs={}, response_metadata={}, id='6f93ea7e-405b-4bfd-a36e-569596cf9ab2'),\n",
       "  AIMessage(content='Mình hiểu rằng bạn đang rất buồn vì điểm số không được như mong đợi. Điều này chắc hẳn khiến bạn thất vọng và có thể ảnh hưởng đến động lực của bạn.\\n\\nNếu bạn muốn, bạn có thể chia sẻ thêm về những suy nghĩ và cảm xúc của bạn lúc này được không?', additional_kwargs={}, response_metadata={}, id='0730ba00-29f6-4884-93cd-0cf4b9105f28'),\n",
       "  HumanMessage(content='Mình cảm thấy mình vô dụng và khiến gia đình thấy xấu hổ', additional_kwargs={}, response_metadata={}, id='2207912f-4abf-4791-932d-62b8ea316aaf'),\n",
       "  AIMessage(content='Dạo gần đây, bạn có thấy những hoạt động mà trước đây bạn rất yêu thích, giờ không còn mang lại cho bạn nhiều niềm vui như trước nữa không?', additional_kwargs={}, response_metadata={}, id='7a3265e0-71ab-4d35-a1f4-8348ea3a3f57'),\n",
       "  HumanMessage(content='Có lúc trước mình thích chơi liên minh nhưng giờ ko muốn đụng vào nữa', additional_kwargs={}, response_metadata={}, id='9efb6ee9-fe2f-4974-8018-9286654470de'),\n",
       "  AIMessage(content='Bạn có thể cho mình biết trong khoảng hai tuần trở lại đây, bạn có thường xuyên cảm thấy mất hứng thú hoặc không còn thấy vui vẻ khi làm những việc mình từng thích không?', additional_kwargs={}, response_metadata={}, id='308d049f-97c2-4bb4-8196-425d8b11211f'),\n",
       "  HumanMessage(content='Mình cảm thấy rất buồn và chán không muốn làm gì hết', additional_kwargs={}, response_metadata={}, id='ff9806e2-7507-4e33-81ee-10e52126e6b0'),\n",
       "  AIMessage(content='Thời gian gần đây, giấc ngủ của bạn có bị ảnh hưởng gì không, ví dụ như khó ngủ hoặc ngủ nhiều hơn bình thường không?', additional_kwargs={}, response_metadata={}, id='657628a7-11c5-4fd9-90ef-c0c64485c9f5'),\n",
       "  HumanMessage(content='Có sáng mình ngủ dậy rất trễ cỡ 10h hoặc 11h mình mới dậy', additional_kwargs={}, response_metadata={}, id='29f8e534-c91c-4a3d-9e99-ce7764d2ba33'),\n",
       "  AIMessage(content='Dạo gần đây, bạn có cảm thấy lúc nào cũng uể oải, không có chút sức lực nào không?', additional_kwargs={}, response_metadata={}, id='c2d04d80-9140-443f-a852-73944d44dbc8'),\n",
       "  HumanMessage(content='Khi mình ngủ dậy thì hầu như không muốn làm gì hết chỉ muốn nằm trên giường và cảm giác rất uể oải', additional_kwargs={}, response_metadata={}, id='d9ddab1e-8b4c-4049-984e-c99eac0fd84c'),\n",
       "  AIMessage(content='Bạn có để ý rằng trong khoảng hai tuần gần đây, khẩu vị của mình có gì thay đổi không? Ví dụ như, bạn có cảm thấy chán ăn hoặc ăn nhiều hơn bình thường không?', additional_kwargs={}, response_metadata={}, id='9627cf25-b870-45bf-8671-c14fe595fe95'),\n",
       "  HumanMessage(content='Mình ăn ít hẳn đi và hấu như không muốn ăn', additional_kwargs={}, response_metadata={}, id='0355f998-3191-435f-9ea2-64291b20c6c6'),\n",
       "  AIMessage(content='Trong khoảng hai tuần trở lại đây, bạn có cảm thấy mình không đạt được những điều mình mong muốn, hoặc có những điều làm bạn thấy có lỗi với bản thân hay gia đình không?', additional_kwargs={}, response_metadata={}, id='a1cebbf4-bfc3-4db6-a3e9-feaabc1f3fb5'),\n",
       "  HumanMessage(content='Việc điểm thấp mình nghĩ gia đình mình thất vọng nên mình chưa nói cho họ', additional_kwargs={}, response_metadata={}, id='12791301-3ac6-4b69-9153-0e993606770c'),\n",
       "  AIMessage(content='Dạo gần đây, bạn có thấy mình khó tập trung khi đọc sách, xem ti-vi hoặc làm việc gì đó cần sự tập trung không?', additional_kwargs={}, response_metadata={}, id='1cfb3a78-9c15-4de3-8286-1fbecd088093'),\n",
       "  HumanMessage(content='Cả hai việc đó mình đều khó tập trung lúc làm thì cứ suy nghĩ chuyện khác', additional_kwargs={}, response_metadata={}, id='1bd102e6-52e9-4662-9a41-93cb4d5afac8'),\n",
       "  AIMessage(content='Gần đây, bạn có cảm thấy mọi thứ mình làm chậm chạp hơn bình thường, hoặc ngược lại, bồn chồn và không thể ngồi yên không?', additional_kwargs={}, response_metadata={}, id='f797f1da-7b7f-45c7-b5c1-935e0d625729'),\n",
       "  HumanMessage(content='Mình không cảm thấy bồn chồn nhưng lúc nào cũng chậm chạp và không muốn phải làm gì', additional_kwargs={}, response_metadata={}, id='8fc66481-53f0-41ee-8e7a-13315702e034'),\n",
       "  AIMessage(content='AnVie hiểu rằng có những lúc mọi thứ trở nên khó khăn. Dạo gần đây, bạn có bao giờ cảm thấy cuộc sống không còn ý nghĩa, hoặc có ý nghĩ làm tổn thương đến bản thân mình không?', additional_kwargs={}, response_metadata={}, id='9f054ccb-92b0-49a7-bc70-c371cad5166d'),\n",
       "  HumanMessage(content='Mình chưa nghĩ tới tự tử nhưng mình rất xợ khi nghĩ đến cảnh ba mẹ mình biết mình điểm thấp', additional_kwargs={}, response_metadata={}, id='2d79d2db-6974-49f1-b4d7-31edcf62695f')],\n",
       " 'next_node': 'yes',\n",
       " 'nodes_flow': ['greeting_node',\n",
       "  'get_user_problem_node',\n",
       "  'problem_detection',\n",
       "  'check_problem_detected_router',\n",
       "  'emotion_support_node',\n",
       "  'get_user_emotion_node',\n",
       "  'problem_depth_analysis_node',\n",
       "  'check_problem_depth_analysis_router',\n",
       "  'ask_phq_9_node',\n",
       "  'get_user_answer_phq9_node',\n",
       "  'get_full_answer_router',\n",
       "  'ask_phq_9_node',\n",
       "  'get_user_answer_phq9_node',\n",
       "  'get_full_answer_router',\n",
       "  'ask_phq_9_node',\n",
       "  'get_user_answer_phq9_node',\n",
       "  'get_full_answer_router',\n",
       "  'ask_phq_9_node',\n",
       "  'get_user_answer_phq9_node',\n",
       "  'get_full_answer_router',\n",
       "  'ask_phq_9_node',\n",
       "  'get_user_answer_phq9_node',\n",
       "  'get_full_answer_router',\n",
       "  'ask_phq_9_node',\n",
       "  'get_user_answer_phq9_node',\n",
       "  'get_full_answer_router',\n",
       "  'ask_phq_9_node',\n",
       "  'get_user_answer_phq9_node',\n",
       "  'get_full_answer_router',\n",
       "  'ask_phq_9_node',\n",
       "  'get_user_answer_phq9_node',\n",
       "  'get_full_answer_router',\n",
       "  'ask_phq_9_node',\n",
       "  'get_user_answer_phq9_node',\n",
       "  'get_full_answer_router',\n",
       "  'get_level_of_depression_node',\n",
       "  'problem_summary_node'],\n",
       " 'last_question': 'AnVie hiểu rằng có những lúc mọi thứ trở nên khó khăn. Dạo gần đây, bạn có bao giờ cảm thấy cuộc sống không còn ý nghĩa, hoặc có ý nghĩ làm tổn thương đến bản thân mình không?',\n",
       " 'problem_detection': {'status': 'detected',\n",
       "  'problem_summary': 'Sinh viên buồn bã do điểm số thấp.',\n",
       "  'related_factors': ['học tập', 'cảm xúc'],\n",
       "  'needed_info': None},\n",
       " 'problem_depth_analysis': {'status': 'insufficient_info',\n",
       "  'reason': 'Sinh viên thể hiện cảm xúc tiêu cực (vô dụng, xấu hổ) liên quan đến điểm số thấp, nhưng cần đánh giá mức độ để có hướng hỗ trợ phù hợp.',\n",
       "  'emotion_related': True,\n",
       "  'next_step': 'ask_PHQ9'},\n",
       " 'problem_analysis_start_index': 3,\n",
       " 'phq9_progress': [{'index': 1,\n",
       "   'question': 'Trong 2 tuần qua, bạn có cảm thấy ít hứng thú hoặc không còn thấy thích thú khi làm việc gì đó không?',\n",
       "   'answer_text': 'Có lúc trước mình thích chơi liên minh nhưng giờ ko muốn đụng vào nữa'},\n",
       "  {'index': 2,\n",
       "   'question': 'Trong 2 tuần qua, bạn có cảm thấy buồn, chán nản hoặc tuyệt vọng không?',\n",
       "   'answer_text': 'Mình cảm thấy rất buồn và chán không muốn làm gì hết'},\n",
       "  {'index': 3,\n",
       "   'question': 'Trong 2 tuần qua, bạn có gặp khó khăn khi ngủ hoặc ngủ quá nhiều không?',\n",
       "   'answer_text': 'Có sáng mình ngủ dậy rất trễ cỡ 10h hoặc 11h mình mới dậy'},\n",
       "  {'index': 4,\n",
       "   'question': 'Trong 2 tuần qua, bạn có cảm thấy mệt mỏi hoặc thiếu năng lượng không?',\n",
       "   'answer_text': 'Khi mình ngủ dậy thì hầu như không muốn làm gì hết chỉ muốn nằm trên giường và cảm giác rất uể oải'},\n",
       "  {'index': 5,\n",
       "   'question': 'Trong 2 tuần qua, bạn có cảm thấy chán ăn hoặc ăn quá nhiều không?',\n",
       "   'answer_text': 'Mình ăn ít hẳn đi và hấu như không muốn ăn'},\n",
       "  {'index': 6,\n",
       "   'question': 'Trong 2 tuần qua, bạn có cảm thấy mình là người thất bại hoặc khiến bản thân hoặc gia đình thất vọng không?',\n",
       "   'answer_text': 'Việc điểm thấp mình nghĩ gia đình mình thất vọng nên mình chưa nói cho họ'},\n",
       "  {'index': 7,\n",
       "   'question': 'Trong 2 tuần qua, bạn có gặp khó khăn trong việc tập trung vào những việc như đọc sách hay xem TV không?',\n",
       "   'answer_text': 'Cả hai việc đó mình đều khó tập trung lúc làm thì cứ suy nghĩ chuyện khác'},\n",
       "  {'index': 8,\n",
       "   'question': 'Trong 2 tuần qua, bạn có di chuyển hoặc nói chậm hơn bình thường đến mức người khác có thể nhận thấy không? Hoặc ngược lại – cảm thấy bồn chồn hoặc không thể ngồi yên?',\n",
       "   'answer_text': 'Mình không cảm thấy bồn chồn nhưng lúc nào cũng chậm chạp và không muốn phải làm gì'},\n",
       "  {'index': 9,\n",
       "   'question': 'Trong 2 tuần qua, bạn có nghĩ rằng thà chết còn hơn sống hoặc nghĩ đến việc tự làm hại bản thân không?',\n",
       "   'answer_text': 'Mình chưa nghĩ tới tự tử nhưng mình rất xợ khi nghĩ đến cảnh ba mẹ mình biết mình điểm thấp'}],\n",
       " 'phq9_index': 9,\n",
       " 'stress_level': 'Severe',\n",
       " 'problem_summary': {'conversation_summary': 'Sinh viên chia sẻ cảm giác vô dụng và xấu hổ với gia đình. Bạn ấy mất hứng thú với những hoạt động yêu thích trước đây, cảm thấy buồn chán, ngủ dậy muộn, uể oải, ăn ít và không muốn ăn. Sinh viên lo lắng về việc điểm thấp sẽ khiến gia đình thất vọng và chưa dám nói với ba mẹ. Bạn ấy khó tập trung và cảm thấy chậm chạp, không muốn làm gì. Mặc dù chưa nghĩ đến tự tử, nhưng bạn ấy rất sợ khi ba mẹ biết điểm thấp.',\n",
       "  'problem_summary': 'Cảm xúc tiêu cực, học tập sa sút và lo lắng về áp lực gia đình.',\n",
       "  'emotional_state': 'Trầm cảm nặng (Severe), buồn chán, thất vọng, lo âu.',\n",
       "  'related_factors': 'Điểm thấp, áp lực gia đình, thiếu ngủ, mất hứng thú với hoạt động yêu thích.',\n",
       "  'coping_style': 'Trốn tránh (không chia sẻ điểm thấp với gia đình), bế tắc (cảm thấy vô dụng, không muốn làm gì).'}}"
      ]
     },
     "execution_count": 15,
     "metadata": {},
     "output_type": "execute_result"
    }
   ],
   "source": [
    "graph.get_state(config).values"
   ]
  }
 ],
 "metadata": {
  "kernelspec": {
   "display_name": ".psycho_chatbot",
   "language": "python",
   "name": "python3"
  },
  "language_info": {
   "codemirror_mode": {
    "name": "ipython",
    "version": 3
   },
   "file_extension": ".py",
   "mimetype": "text/x-python",
   "name": "python",
   "nbconvert_exporter": "python",
   "pygments_lexer": "ipython3",
   "version": "3.12.5"
  }
 },
 "nbformat": 4,
 "nbformat_minor": 2
}
